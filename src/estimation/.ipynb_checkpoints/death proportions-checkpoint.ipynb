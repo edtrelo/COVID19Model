{
 "cells": [
  {
   "cell_type": "code",
   "execution_count": 1,
   "id": "c7c39de8",
   "metadata": {},
   "outputs": [],
   "source": [
    "import pandas as pd\n",
    "import numpy as np\n",
    "import matplotlib.pyplot as plt\n",
    "import psycopg2"
   ]
  },
  {
   "cell_type": "code",
   "execution_count": 2,
   "id": "1dfe0ef2",
   "metadata": {},
   "outputs": [],
   "source": [
    "conn = psycopg2.connect(database=\"covid19\", user=\"postgres\", password=\"1234\")\n",
    "cur = conn.cursor()\n",
    "# queremos todos los registros de \"rated_movies\".\n",
    "query  = 'SELECT * FROM primer_ola_limp;' \n",
    "cur.execute(query=query)\n",
    "# obtenemos todos los registros obtenidos.\n",
    "tuples_list = cur.fetchall()\n",
    "# obtenemos el header de la tabla.\n",
    "headers = [i[0] for i in cur.description]\n",
    "# cerramos el cursor.\n",
    "cur.close()\n",
    "# creamos un dataframe con el resultado del querie.\n",
    "casos2020 = pd.DataFrame(tuples_list, columns=headers)\n",
    "conn.close()"
   ]
  },
  {
   "cell_type": "code",
   "execution_count": 6,
   "id": "54ea6389",
   "metadata": {},
   "outputs": [
    {
     "data": {
      "text/plain": [
       "2024528"
      ]
     },
     "execution_count": 6,
     "metadata": {},
     "output_type": "execute_result"
    }
   ],
   "source": [
    "len(casos2020)"
   ]
  },
  {
   "cell_type": "code",
   "execution_count": 9,
   "id": "380bba52",
   "metadata": {},
   "outputs": [
    {
     "data": {
      "text/plain": [
       "Index(['origen', 'sector', 'entidad_um', 'sexo', 'entidad_res',\n",
       "       'municipio_res', 'tipo_paciente', 'fecha_ingreso', 'fecha_sintomas',\n",
       "       'fecha_def', 'intubado', 'neumonia', 'edad', 'embarazo', 'diabetes',\n",
       "       'epoc', 'asma', 'inmusupr', 'hipertension', 'cardiovascular',\n",
       "       'obesidad', 'renal_cronica', 'tabaquismo', 'otro_caso',\n",
       "       'toma_muestra_lab', 'resultado_lab', 'toma_muestra_antigeno',\n",
       "       'resultado_antigeno', 'clasificacion_final', 'uci'],\n",
       "      dtype='object')"
      ]
     },
     "execution_count": 9,
     "metadata": {},
     "output_type": "execute_result"
    }
   ],
   "source": [
    "casos2020.columns"
   ]
  },
  {
   "cell_type": "code",
   "execution_count": 22,
   "id": "71135270",
   "metadata": {},
   "outputs": [
    {
     "name": "stderr",
     "output_type": "stream",
     "text": [
      "C:\\Users\\Edgar Trejo\\anaconda3\\lib\\site-packages\\pandas\\core\\ops\\array_ops.py:73: FutureWarning: Comparison of Timestamp with datetime.date is deprecated in order to match the standard library behavior. In a future version these will be considered non-comparable. Use 'ts == pd.Timestamp(date)' or 'ts.date() == date' instead.\n",
      "  result = libops.scalar_compare(x.ravel(), y, op)\n"
     ]
    }
   ],
   "source": [
    "primerola = casos2020[casos2020['fecha_def'] <= pd.to_datetime(\"2020-06-01\")]"
   ]
  },
  {
   "cell_type": "code",
   "execution_count": 14,
   "id": "a217f80a",
   "metadata": {},
   "outputs": [
    {
     "data": {
      "text/plain": [
       "False"
      ]
     },
     "execution_count": 14,
     "metadata": {},
     "output_type": "execute_result"
    }
   ],
   "source": [
    "any(casos2020['fecha_ingreso'].isnull()) # todos estos fueron hospitalizados"
   ]
  },
  {
   "cell_type": "code",
   "execution_count": 17,
   "id": "36ba337e",
   "metadata": {},
   "outputs": [],
   "source": [
    "hosp = casos2020[~casos2020['fecha_def'].isnull()]"
   ]
  },
  {
   "cell_type": "code",
   "execution_count": 20,
   "id": "891d3ac3",
   "metadata": {},
   "outputs": [
    {
     "data": {
      "text/plain": [
       "0.06586671066046011"
      ]
     },
     "execution_count": 20,
     "metadata": {},
     "output_type": "execute_result"
    }
   ],
   "source": [
    "len(hosp)/len(casos2020)"
   ]
  },
  {
   "cell_type": "code",
   "execution_count": null,
   "id": "7dda3727",
   "metadata": {},
   "outputs": [],
   "source": []
  }
 ],
 "metadata": {
  "kernelspec": {
   "display_name": "Python 3 (ipykernel)",
   "language": "python",
   "name": "python3"
  },
  "language_info": {
   "codemirror_mode": {
    "name": "ipython",
    "version": 3
   },
   "file_extension": ".py",
   "mimetype": "text/x-python",
   "name": "python",
   "nbconvert_exporter": "python",
   "pygments_lexer": "ipython3",
   "version": "3.8.3"
  }
 },
 "nbformat": 4,
 "nbformat_minor": 5
}
