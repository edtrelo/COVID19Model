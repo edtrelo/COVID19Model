{
 "cells": [
  {
   "cell_type": "code",
   "execution_count": 114,
   "metadata": {},
   "outputs": [],
   "source": [
    "import pandas as pd\n",
    "from scipy.integrate import solve_ivp, quad\n",
    "import numpy as np\n",
    "from sklearn.ensemble import RandomForestRegressor\n",
    "from sklearn.model_selection import train_test_split\n",
    "import matplotlib.pyplot as plt"
   ]
  },
  {
   "cell_type": "code",
   "execution_count": 115,
   "metadata": {},
   "outputs": [],
   "source": [
    "γ = 1/2.4\n",
    "fecha_inicio = pd.to_datetime(\"27-february-2020\")\n",
    "r = 0.7\n",
    "inicio_red = 25\n",
    "f = 0.9\n",
    "q = 0.1356473594548552\n",
    "ν = 5/12\n",
    "η = 1/7\n",
    "ϵ = 1/1.4\n",
    "θ = 1/2.4\n",
    "pa, pm, ps = 0.5, 0.476, 0.024\n",
    "σ = 1/4.7\n",
    "ξ = 1/4\n",
    "τ = 1/5"
   ]
  },
  {
   "cell_type": "code",
   "execution_count": 116,
   "metadata": {},
   "outputs": [],
   "source": [
    "ABT = pd.read_csv(\"D:/Edgar Trejo/Universidad/Proyecto/COVID19Model/data/cleandata/ABTrf.csv\", dtype={0:str})"
   ]
  },
  {
   "cell_type": "code",
   "execution_count": 117,
   "metadata": {},
   "outputs": [],
   "source": [
    "pob = pd.read_csv('https://raw.githubusercontent.com/edtrelo/COVID19Model/main/data/cleandata/pob_miZMVM.csv',\n",
    "                 index_col = 0, dtype = {'cve_umun':str})"
   ]
  },
  {
   "cell_type": "code",
   "execution_count": 118,
   "metadata": {},
   "outputs": [],
   "source": [
    "pob = pob['pop'].to_list()\n"
   ]
  },
  {
   "cell_type": "code",
   "execution_count": 119,
   "metadata": {},
   "outputs": [
    {
     "data": {
      "text/html": [
       "<div>\n",
       "<style scoped>\n",
       "    .dataframe tbody tr th:only-of-type {\n",
       "        vertical-align: middle;\n",
       "    }\n",
       "\n",
       "    .dataframe tbody tr th {\n",
       "        vertical-align: top;\n",
       "    }\n",
       "\n",
       "    .dataframe thead th {\n",
       "        text-align: right;\n",
       "    }\n",
       "</style>\n",
       "<table border=\"1\" class=\"dataframe\">\n",
       "  <thead>\n",
       "    <tr style=\"text-align: right;\">\n",
       "      <th></th>\n",
       "      <th>Unnamed: 0</th>\n",
       "      <th>09002</th>\n",
       "      <th>09003</th>\n",
       "      <th>09004</th>\n",
       "      <th>09005</th>\n",
       "      <th>09006</th>\n",
       "      <th>09007</th>\n",
       "      <th>09008</th>\n",
       "      <th>09009</th>\n",
       "      <th>09010</th>\n",
       "      <th>...</th>\n",
       "      <th>15109.1</th>\n",
       "      <th>15120.1</th>\n",
       "      <th>15121.1</th>\n",
       "      <th>15122.1</th>\n",
       "      <th>t</th>\n",
       "      <th>i</th>\n",
       "      <th>f</th>\n",
       "      <th>Ia</th>\n",
       "      <th>Im</th>\n",
       "      <th>y</th>\n",
       "    </tr>\n",
       "  </thead>\n",
       "  <tbody>\n",
       "    <tr>\n",
       "      <th>0</th>\n",
       "      <td>09002</td>\n",
       "      <td>232346.0</td>\n",
       "      <td>12482.0</td>\n",
       "      <td>896.0</td>\n",
       "      <td>47279.0</td>\n",
       "      <td>3891.0</td>\n",
       "      <td>10854.0</td>\n",
       "      <td>1464.0</td>\n",
       "      <td>0.0</td>\n",
       "      <td>5154.0</td>\n",
       "      <td>...</td>\n",
       "      <td>13440.0</td>\n",
       "      <td>725.0</td>\n",
       "      <td>5746.0</td>\n",
       "      <td>2383.0</td>\n",
       "      <td>0</td>\n",
       "      <td>0</td>\n",
       "      <td>0.9</td>\n",
       "      <td>0.000000</td>\n",
       "      <td>0.000000</td>\n",
       "      <td>0.002884</td>\n",
       "    </tr>\n",
       "    <tr>\n",
       "      <th>1</th>\n",
       "      <td>09003</td>\n",
       "      <td>9509.0</td>\n",
       "      <td>620410.0</td>\n",
       "      <td>9251.0</td>\n",
       "      <td>23693.0</td>\n",
       "      <td>14445.0</td>\n",
       "      <td>125925.0</td>\n",
       "      <td>71294.0</td>\n",
       "      <td>5832.0</td>\n",
       "      <td>46182.0</td>\n",
       "      <td>...</td>\n",
       "      <td>1387.0</td>\n",
       "      <td>1002.0</td>\n",
       "      <td>1674.0</td>\n",
       "      <td>2385.0</td>\n",
       "      <td>0</td>\n",
       "      <td>1</td>\n",
       "      <td>0.9</td>\n",
       "      <td>0.000000</td>\n",
       "      <td>0.000000</td>\n",
       "      <td>0.001566</td>\n",
       "    </tr>\n",
       "    <tr>\n",
       "      <th>2</th>\n",
       "      <td>09004</td>\n",
       "      <td>1298.0</td>\n",
       "      <td>8531.0</td>\n",
       "      <td>138682.0</td>\n",
       "      <td>2708.0</td>\n",
       "      <td>1243.0</td>\n",
       "      <td>3638.0</td>\n",
       "      <td>3852.0</td>\n",
       "      <td>143.0</td>\n",
       "      <td>34823.0</td>\n",
       "      <td>...</td>\n",
       "      <td>40.0</td>\n",
       "      <td>0.0</td>\n",
       "      <td>739.0</td>\n",
       "      <td>760.0</td>\n",
       "      <td>0</td>\n",
       "      <td>2</td>\n",
       "      <td>0.9</td>\n",
       "      <td>0.000000</td>\n",
       "      <td>0.000000</td>\n",
       "      <td>0.000252</td>\n",
       "    </tr>\n",
       "    <tr>\n",
       "      <th>3</th>\n",
       "      <td>09005</td>\n",
       "      <td>31628.0</td>\n",
       "      <td>25975.0</td>\n",
       "      <td>5323.0</td>\n",
       "      <td>890103.0</td>\n",
       "      <td>9951.0</td>\n",
       "      <td>20588.0</td>\n",
       "      <td>1820.0</td>\n",
       "      <td>277.0</td>\n",
       "      <td>10318.0</td>\n",
       "      <td>...</td>\n",
       "      <td>8928.0</td>\n",
       "      <td>747.0</td>\n",
       "      <td>5618.0</td>\n",
       "      <td>1944.0</td>\n",
       "      <td>0</td>\n",
       "      <td>3</td>\n",
       "      <td>0.9</td>\n",
       "      <td>1.000000</td>\n",
       "      <td>0.000000</td>\n",
       "      <td>0.002299</td>\n",
       "    </tr>\n",
       "    <tr>\n",
       "      <th>4</th>\n",
       "      <td>09006</td>\n",
       "      <td>554.0</td>\n",
       "      <td>14372.0</td>\n",
       "      <td>1174.0</td>\n",
       "      <td>7421.0</td>\n",
       "      <td>319991.0</td>\n",
       "      <td>160054.0</td>\n",
       "      <td>1378.0</td>\n",
       "      <td>621.0</td>\n",
       "      <td>5512.0</td>\n",
       "      <td>...</td>\n",
       "      <td>1887.0</td>\n",
       "      <td>169.0</td>\n",
       "      <td>630.0</td>\n",
       "      <td>1359.0</td>\n",
       "      <td>0</td>\n",
       "      <td>4</td>\n",
       "      <td>0.9</td>\n",
       "      <td>0.000000</td>\n",
       "      <td>0.000000</td>\n",
       "      <td>0.003901</td>\n",
       "    </tr>\n",
       "    <tr>\n",
       "      <th>...</th>\n",
       "      <td>...</td>\n",
       "      <td>...</td>\n",
       "      <td>...</td>\n",
       "      <td>...</td>\n",
       "      <td>...</td>\n",
       "      <td>...</td>\n",
       "      <td>...</td>\n",
       "      <td>...</td>\n",
       "      <td>...</td>\n",
       "      <td>...</td>\n",
       "      <td>...</td>\n",
       "      <td>...</td>\n",
       "      <td>...</td>\n",
       "      <td>...</td>\n",
       "      <td>...</td>\n",
       "      <td>...</td>\n",
       "      <td>...</td>\n",
       "      <td>...</td>\n",
       "      <td>...</td>\n",
       "      <td>...</td>\n",
       "      <td>...</td>\n",
       "    </tr>\n",
       "    <tr>\n",
       "      <th>4460</th>\n",
       "      <td>15108</td>\n",
       "      <td>1163.4</td>\n",
       "      <td>349.3</td>\n",
       "      <td>299.6</td>\n",
       "      <td>1218.0</td>\n",
       "      <td>0.0</td>\n",
       "      <td>95.9</td>\n",
       "      <td>105.7</td>\n",
       "      <td>0.0</td>\n",
       "      <td>76.3</td>\n",
       "      <td>...</td>\n",
       "      <td>7989.1</td>\n",
       "      <td>508.9</td>\n",
       "      <td>3150.7</td>\n",
       "      <td>32.2</td>\n",
       "      <td>94</td>\n",
       "      <td>42</td>\n",
       "      <td>0.9</td>\n",
       "      <td>126.443083</td>\n",
       "      <td>120.371750</td>\n",
       "      <td>0.000042</td>\n",
       "    </tr>\n",
       "    <tr>\n",
       "      <th>4461</th>\n",
       "      <td>15109</td>\n",
       "      <td>1675.8</td>\n",
       "      <td>258.3</td>\n",
       "      <td>290.5</td>\n",
       "      <td>1222.2</td>\n",
       "      <td>356.3</td>\n",
       "      <td>422.8</td>\n",
       "      <td>172.2</td>\n",
       "      <td>0.0</td>\n",
       "      <td>106.4</td>\n",
       "      <td>...</td>\n",
       "      <td>82008.5</td>\n",
       "      <td>340.2</td>\n",
       "      <td>5636.4</td>\n",
       "      <td>0.0</td>\n",
       "      <td>94</td>\n",
       "      <td>43</td>\n",
       "      <td>0.9</td>\n",
       "      <td>1210.826500</td>\n",
       "      <td>1152.711903</td>\n",
       "      <td>0.001836</td>\n",
       "    </tr>\n",
       "    <tr>\n",
       "      <th>4462</th>\n",
       "      <td>15120</td>\n",
       "      <td>236.6</td>\n",
       "      <td>236.6</td>\n",
       "      <td>0.0</td>\n",
       "      <td>361.2</td>\n",
       "      <td>0.0</td>\n",
       "      <td>0.0</td>\n",
       "      <td>0.0</td>\n",
       "      <td>0.0</td>\n",
       "      <td>28.0</td>\n",
       "      <td>...</td>\n",
       "      <td>302.4</td>\n",
       "      <td>32540.2</td>\n",
       "      <td>340.9</td>\n",
       "      <td>0.0</td>\n",
       "      <td>94</td>\n",
       "      <td>44</td>\n",
       "      <td>0.9</td>\n",
       "      <td>543.357761</td>\n",
       "      <td>517.291926</td>\n",
       "      <td>0.002068</td>\n",
       "    </tr>\n",
       "    <tr>\n",
       "      <th>4463</th>\n",
       "      <td>15121</td>\n",
       "      <td>2531.9</td>\n",
       "      <td>723.8</td>\n",
       "      <td>121.8</td>\n",
       "      <td>1937.6</td>\n",
       "      <td>535.5</td>\n",
       "      <td>850.5</td>\n",
       "      <td>105.0</td>\n",
       "      <td>0.0</td>\n",
       "      <td>168.7</td>\n",
       "      <td>...</td>\n",
       "      <td>10971.8</td>\n",
       "      <td>801.5</td>\n",
       "      <td>110233.9</td>\n",
       "      <td>0.0</td>\n",
       "      <td>94</td>\n",
       "      <td>45</td>\n",
       "      <td>0.9</td>\n",
       "      <td>424.088964</td>\n",
       "      <td>403.705241</td>\n",
       "      <td>-0.000757</td>\n",
       "    </tr>\n",
       "    <tr>\n",
       "      <th>4464</th>\n",
       "      <td>15122</td>\n",
       "      <td>319.2</td>\n",
       "      <td>522.9</td>\n",
       "      <td>304.5</td>\n",
       "      <td>546.0</td>\n",
       "      <td>1318.8</td>\n",
       "      <td>4389.0</td>\n",
       "      <td>55.3</td>\n",
       "      <td>298.2</td>\n",
       "      <td>358.4</td>\n",
       "      <td>...</td>\n",
       "      <td>0.0</td>\n",
       "      <td>0.0</td>\n",
       "      <td>0.0</td>\n",
       "      <td>76202.0</td>\n",
       "      <td>94</td>\n",
       "      <td>46</td>\n",
       "      <td>0.9</td>\n",
       "      <td>128.860147</td>\n",
       "      <td>122.649264</td>\n",
       "      <td>-0.003033</td>\n",
       "    </tr>\n",
       "  </tbody>\n",
       "</table>\n",
       "<p>4465 rows × 101 columns</p>\n",
       "</div>"
      ],
      "text/plain": [
       "     Unnamed: 0     09002     09003     09004     09005     09006     09007  \\\n",
       "0         09002  232346.0   12482.0     896.0   47279.0    3891.0   10854.0   \n",
       "1         09003    9509.0  620410.0    9251.0   23693.0   14445.0  125925.0   \n",
       "2         09004    1298.0    8531.0  138682.0    2708.0    1243.0    3638.0   \n",
       "3         09005   31628.0   25975.0    5323.0  890103.0    9951.0   20588.0   \n",
       "4         09006     554.0   14372.0    1174.0    7421.0  319991.0  160054.0   \n",
       "...         ...       ...       ...       ...       ...       ...       ...   \n",
       "4460      15108    1163.4     349.3     299.6    1218.0       0.0      95.9   \n",
       "4461      15109    1675.8     258.3     290.5    1222.2     356.3     422.8   \n",
       "4462      15120     236.6     236.6       0.0     361.2       0.0       0.0   \n",
       "4463      15121    2531.9     723.8     121.8    1937.6     535.5     850.5   \n",
       "4464      15122     319.2     522.9     304.5     546.0    1318.8    4389.0   \n",
       "\n",
       "        09008   09009    09010  ...  15109.1  15120.1   15121.1  15122.1   t  \\\n",
       "0      1464.0     0.0   5154.0  ...  13440.0    725.0    5746.0   2383.0   0   \n",
       "1     71294.0  5832.0  46182.0  ...   1387.0   1002.0    1674.0   2385.0   0   \n",
       "2      3852.0   143.0  34823.0  ...     40.0      0.0     739.0    760.0   0   \n",
       "3      1820.0   277.0  10318.0  ...   8928.0    747.0    5618.0   1944.0   0   \n",
       "4      1378.0   621.0   5512.0  ...   1887.0    169.0     630.0   1359.0   0   \n",
       "...       ...     ...      ...  ...      ...      ...       ...      ...  ..   \n",
       "4460    105.7     0.0     76.3  ...   7989.1    508.9    3150.7     32.2  94   \n",
       "4461    172.2     0.0    106.4  ...  82008.5    340.2    5636.4      0.0  94   \n",
       "4462      0.0     0.0     28.0  ...    302.4  32540.2     340.9      0.0  94   \n",
       "4463    105.0     0.0    168.7  ...  10971.8    801.5  110233.9      0.0  94   \n",
       "4464     55.3   298.2    358.4  ...      0.0      0.0       0.0  76202.0  94   \n",
       "\n",
       "       i    f           Ia           Im         y  \n",
       "0      0  0.9     0.000000     0.000000  0.002884  \n",
       "1      1  0.9     0.000000     0.000000  0.001566  \n",
       "2      2  0.9     0.000000     0.000000  0.000252  \n",
       "3      3  0.9     1.000000     0.000000  0.002299  \n",
       "4      4  0.9     0.000000     0.000000  0.003901  \n",
       "...   ..  ...          ...          ...       ...  \n",
       "4460  42  0.9   126.443083   120.371750  0.000042  \n",
       "4461  43  0.9  1210.826500  1152.711903  0.001836  \n",
       "4462  44  0.9   543.357761   517.291926  0.002068  \n",
       "4463  45  0.9   424.088964   403.705241 -0.000757  \n",
       "4464  46  0.9   128.860147   122.649264 -0.003033  \n",
       "\n",
       "[4465 rows x 101 columns]"
      ]
     },
     "execution_count": 119,
     "metadata": {},
     "output_type": "execute_result"
    }
   ],
   "source": [
    "ABT"
   ]
  },
  {
   "cell_type": "code",
   "execution_count": 120,
   "metadata": {},
   "outputs": [],
   "source": [
    "rf = RandomForestRegressor(n_estimators = 1000, random_state = 42)"
   ]
  },
  {
   "cell_type": "code",
   "execution_count": 121,
   "metadata": {},
   "outputs": [],
   "source": [
    "train_X, test_X, train_Y, test_Y = train_test_split(ABT.iloc[:, :-2], ABT.iloc[:, -1], test_size = 0.25, random_state = 42)"
   ]
  },
  {
   "cell_type": "code",
   "execution_count": 122,
   "metadata": {},
   "outputs": [
    {
     "data": {
      "text/html": [
       "<style>#sk-container-id-2 {color: black;background-color: white;}#sk-container-id-2 pre{padding: 0;}#sk-container-id-2 div.sk-toggleable {background-color: white;}#sk-container-id-2 label.sk-toggleable__label {cursor: pointer;display: block;width: 100%;margin-bottom: 0;padding: 0.3em;box-sizing: border-box;text-align: center;}#sk-container-id-2 label.sk-toggleable__label-arrow:before {content: \"▸\";float: left;margin-right: 0.25em;color: #696969;}#sk-container-id-2 label.sk-toggleable__label-arrow:hover:before {color: black;}#sk-container-id-2 div.sk-estimator:hover label.sk-toggleable__label-arrow:before {color: black;}#sk-container-id-2 div.sk-toggleable__content {max-height: 0;max-width: 0;overflow: hidden;text-align: left;background-color: #f0f8ff;}#sk-container-id-2 div.sk-toggleable__content pre {margin: 0.2em;color: black;border-radius: 0.25em;background-color: #f0f8ff;}#sk-container-id-2 input.sk-toggleable__control:checked~div.sk-toggleable__content {max-height: 200px;max-width: 100%;overflow: auto;}#sk-container-id-2 input.sk-toggleable__control:checked~label.sk-toggleable__label-arrow:before {content: \"▾\";}#sk-container-id-2 div.sk-estimator input.sk-toggleable__control:checked~label.sk-toggleable__label {background-color: #d4ebff;}#sk-container-id-2 div.sk-label input.sk-toggleable__control:checked~label.sk-toggleable__label {background-color: #d4ebff;}#sk-container-id-2 input.sk-hidden--visually {border: 0;clip: rect(1px 1px 1px 1px);clip: rect(1px, 1px, 1px, 1px);height: 1px;margin: -1px;overflow: hidden;padding: 0;position: absolute;width: 1px;}#sk-container-id-2 div.sk-estimator {font-family: monospace;background-color: #f0f8ff;border: 1px dotted black;border-radius: 0.25em;box-sizing: border-box;margin-bottom: 0.5em;}#sk-container-id-2 div.sk-estimator:hover {background-color: #d4ebff;}#sk-container-id-2 div.sk-parallel-item::after {content: \"\";width: 100%;border-bottom: 1px solid gray;flex-grow: 1;}#sk-container-id-2 div.sk-label:hover label.sk-toggleable__label {background-color: #d4ebff;}#sk-container-id-2 div.sk-serial::before {content: \"\";position: absolute;border-left: 1px solid gray;box-sizing: border-box;top: 0;bottom: 0;left: 50%;z-index: 0;}#sk-container-id-2 div.sk-serial {display: flex;flex-direction: column;align-items: center;background-color: white;padding-right: 0.2em;padding-left: 0.2em;position: relative;}#sk-container-id-2 div.sk-item {position: relative;z-index: 1;}#sk-container-id-2 div.sk-parallel {display: flex;align-items: stretch;justify-content: center;background-color: white;position: relative;}#sk-container-id-2 div.sk-item::before, #sk-container-id-2 div.sk-parallel-item::before {content: \"\";position: absolute;border-left: 1px solid gray;box-sizing: border-box;top: 0;bottom: 0;left: 50%;z-index: -1;}#sk-container-id-2 div.sk-parallel-item {display: flex;flex-direction: column;z-index: 1;position: relative;background-color: white;}#sk-container-id-2 div.sk-parallel-item:first-child::after {align-self: flex-end;width: 50%;}#sk-container-id-2 div.sk-parallel-item:last-child::after {align-self: flex-start;width: 50%;}#sk-container-id-2 div.sk-parallel-item:only-child::after {width: 0;}#sk-container-id-2 div.sk-dashed-wrapped {border: 1px dashed gray;margin: 0 0.4em 0.5em 0.4em;box-sizing: border-box;padding-bottom: 0.4em;background-color: white;}#sk-container-id-2 div.sk-label label {font-family: monospace;font-weight: bold;display: inline-block;line-height: 1.2em;}#sk-container-id-2 div.sk-label-container {text-align: center;}#sk-container-id-2 div.sk-container {/* jupyter's `normalize.less` sets `[hidden] { display: none; }` but bootstrap.min.css set `[hidden] { display: none !important; }` so we also need the `!important` here to be able to override the default hidden behavior on the sphinx rendered scikit-learn.org. See: https://github.com/scikit-learn/scikit-learn/issues/21755 */display: inline-block !important;position: relative;}#sk-container-id-2 div.sk-text-repr-fallback {display: none;}</style><div id=\"sk-container-id-2\" class=\"sk-top-container\"><div class=\"sk-text-repr-fallback\"><pre>RandomForestRegressor(n_estimators=1000, random_state=42)</pre><b>In a Jupyter environment, please rerun this cell to show the HTML representation or trust the notebook. <br />On GitHub, the HTML representation is unable to render, please try loading this page with nbviewer.org.</b></div><div class=\"sk-container\" hidden><div class=\"sk-item\"><div class=\"sk-estimator sk-toggleable\"><input class=\"sk-toggleable__control sk-hidden--visually\" id=\"sk-estimator-id-2\" type=\"checkbox\" checked><label for=\"sk-estimator-id-2\" class=\"sk-toggleable__label sk-toggleable__label-arrow\">RandomForestRegressor</label><div class=\"sk-toggleable__content\"><pre>RandomForestRegressor(n_estimators=1000, random_state=42)</pre></div></div></div></div></div>"
      ],
      "text/plain": [
       "RandomForestRegressor(n_estimators=1000, random_state=42)"
      ]
     },
     "execution_count": 122,
     "metadata": {},
     "output_type": "execute_result"
    }
   ],
   "source": [
    "rf.fit(train_X, train_Y)"
   ]
  },
  {
   "cell_type": "code",
   "execution_count": 123,
   "metadata": {},
   "outputs": [],
   "source": [
    "Y = rf.predict(ABT.iloc[:, :-2])"
   ]
  },
  {
   "cell_type": "code",
   "execution_count": 124,
   "metadata": {},
   "outputs": [],
   "source": [
    "λ = lambda j, t: Y[[47*i + j for i in range(95)]][int(t)]"
   ]
  },
  {
   "cell_type": "code",
   "execution_count": 125,
   "metadata": {},
   "outputs": [
    {
     "data": {
      "text/plain": [
       "0.0020227339254766615"
      ]
     },
     "execution_count": 125,
     "metadata": {},
     "output_type": "execute_result"
    }
   ],
   "source": [
    "Y[[47*i + 0 for i in range(95)]][2]"
   ]
  },
  {
   "cell_type": "code",
   "execution_count": 126,
   "metadata": {},
   "outputs": [],
   "source": [
    "def Model(t, X):\n",
    "    \n",
    "    dXdt = np.zeros(47*8)\n",
    "    \n",
    "    S = lambda i: X[8*i + 0]\n",
    "    E = lambda i: X[8*i + 1]\n",
    "    Ip = lambda i: X[8*i + 2]\n",
    "    Iss =  lambda i: X[8*i + 3]\n",
    "    H = lambda i: X[8*i + 4]\n",
    "    Ia = lambda i: X[8*i + 6]\n",
    "    Im = lambda i: X[8*i + 7]\n",
    "            \n",
    "    for i in range(47):    \n",
    "        # X_i; los componentes de cada ciudad\n",
    "        # ecuación de los suceptibles para la ciudad i\n",
    "        dXdt[8*i + 0] = -λ(i, t)*S(i)\n",
    "        # ecuación de los expuestos para la ciudad i\n",
    "        dXdt[8*i + 1] = λ(i, t)*S(i) - ϵ*E(i)\n",
    "        # ecuación para los pre-infectados\n",
    "        dXdt[8*i + 2] = ϵ*E(i) - θ*Ip(i)\n",
    "        # ecuación para los infectados severos\n",
    "        dXdt[8*i + 3] = θ*ps*Ip(i) - σ*Iss(i)\n",
    "        # ecuación para los hospitalizados\n",
    "        dXdt[8*i + 4] = σ*Iss(i) - (1-q)*τ*H(i) - ξ*q*H(i)\n",
    "        # ecuación de los difuntos\n",
    "        dXdt[8*i + 5] = q*ξ*H(i)\n",
    "        # ecuación de los asintomáticos\n",
    "        dXdt[8*i + 6] = θ*pa*Ip(i) - γ*Ia(i)\n",
    "        # ecuación de los mild sym\n",
    "        dXdt[8*i + 7] = θ*pm*Ip(i) - γ*Im(i)\n",
    "\n",
    "    return dXdt"
   ]
  },
  {
   "cell_type": "code",
   "execution_count": 127,
   "metadata": {},
   "outputs": [],
   "source": [
    "x0 = []\n",
    "indicesCasos = [3, 5, 34]\n",
    "\n",
    "for i in range(47):\n",
    "    if i in indicesCasos:\n",
    "        x0.extend([pob[i]-2, 0, 0, 0, 0, 0, 1, 1])\n",
    "    else:\n",
    "        x0.extend([pob[i], 0, 0, 0, 0, 0, 0, 0])"
   ]
  },
  {
   "cell_type": "code",
   "execution_count": 128,
   "metadata": {},
   "outputs": [],
   "source": [
    "tdata = np.linspace(0, 93, 94)\n",
    "    \n",
    "sol = solve_ivp(Model, (0, 94), x0, t_eval = tdata)"
   ]
  },
  {
   "cell_type": "code",
   "execution_count": 129,
   "metadata": {},
   "outputs": [
    {
     "data": {
      "text/plain": [
       "376"
      ]
     },
     "execution_count": 129,
     "metadata": {},
     "output_type": "execute_result"
    }
   ],
   "source": [
    "len(sol.y)"
   ]
  },
  {
   "cell_type": "code",
   "execution_count": 130,
   "metadata": {},
   "outputs": [
    {
     "data": {
      "text/plain": [
       "<matplotlib.legend.Legend at 0x2661b5aa730>"
      ]
     },
     "execution_count": 130,
     "metadata": {},
     "output_type": "execute_result"
    },
    {
     "data": {
      "image/png": "[encoded data removed]",
      "text/plain": [
       "<Figure size 432x288 with 1 Axes>"
      ]
     },
     "metadata": {
      "needs_background": "light"
     },
     "output_type": "display_data"
    }
   ],
   "source": [
    "plt.plot(sol.y[1, :], label = 'expuestos')\n",
    "plt.plot(sol.y[2, :], label = 'pre_infe')\n",
    "plt.plot(sol.y[3, :], label = 'severos')\n",
    "plt.plot(sol.y[4, :], label = 'hosp')\n",
    "plt.plot(sol.y[5, :], label = 'dif')\n",
    "plt.plot(sol.y[6, :], label ='asi')\n",
    "plt.plot(sol.y[7, :], label = 'mild')\n",
    "\n",
    "plt.legend()"
   ]
  },
  {
   "cell_type": "code",
   "execution_count": null,
   "metadata": {},
   "outputs": [],
   "source": []
  }
 ],
 "metadata": {
  "kernelspec": {
   "display_name": "Python 3 (ipykernel)",
   "language": "python",
   "name": "python3"
  },
  "language_info": {
   "codemirror_mode": {
    "name": "ipython",
    "version": 3
   },
   "file_extension": ".py",
   "mimetype": "text/x-python",
   "name": "python",
   "nbconvert_exporter": "python",
   "pygments_lexer": "ipython3",
   "version": "3.8.3"
  }
 },
 "nbformat": 4,
 "nbformat_minor": 2
}
