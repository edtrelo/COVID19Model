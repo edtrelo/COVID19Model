{
 "cells": [
  {
   "cell_type": "code",
   "execution_count": 85,
   "id": "04362579",
   "metadata": {},
   "outputs": [],
   "source": [
    "import warnings\n",
    "warnings.filterwarnings('ignore')\n",
    "import pandas as pd\n",
    "import requests\n",
    "import pickle as pkl\n",
    "import geopandas as gpd\n",
    "import numpy as np\n",
    "import matplotlib.pyplot as plt\n",
    "from sklearn.cluster import KMeans\n",
    "from sklearn.preprocessing import MinMaxScaler, StandardScaler\n",
    "from sklearn.decomposition import PCA\n",
    "from scipy import stats\n",
    "import networkx as nx\n",
    "plt.rcParams[\"font.family\"] = \"Times New Roman\""
   ]
  },
  {
   "cell_type": "markdown",
   "id": "558d170c",
   "metadata": {},
   "source": [
    "## Regionalización (Clustering)\n",
    "\n",
    "En Calvetti, et. al. (2020) argumentan que considerar a los $\\beta r_k$ se debe a que cada patch debe tener densidades diferentes y por ello la dinámica de contactos debe ser diferente. Dada la densidad de un municipio y su ubicación, queremos agruparlos en $k$ regiones de tal forma que los municipios de la misma región \"se parezcan\".\n",
    "\n",
    "Vamos a concatenar las tres tablas de viajes:\n",
    "\n",
    "En el archivo shp tenemos datos sobre las poblaciones de los municipios. Vamos a usar esos datos para el proceso de clustering:"
   ]
  },
  {
   "cell_type": "code",
   "execution_count": 2,
   "id": "74a26a88",
   "metadata": {},
   "outputs": [],
   "source": [
    "filepath = \"D:/Edgar Trejo/Universidad/Proyecto/COVID19Model/data/cleandata/miZMVMmap/miZMVM.shp\"\n",
    "# leemos el mapa de todos los municipios de MX\n",
    "data_ZMVM = gpd.read_file(filepath, encoding = 'latin')"
   ]
  },
  {
   "cell_type": "code",
   "execution_count": 3,
   "id": "a13e3231",
   "metadata": {},
   "outputs": [],
   "source": [
    "mapa_ZMVM = data_ZMVM[['cve_umun', 'geometry']]"
   ]
  },
  {
   "cell_type": "markdown",
   "id": "ca5d0e0f",
   "metadata": {},
   "source": [
    "Obtenemos los centroides"
   ]
  },
  {
   "cell_type": "code",
   "execution_count": 4,
   "id": "85da87e3",
   "metadata": {},
   "outputs": [],
   "source": [
    "data_ZMVM.insert(4, 'x', data_ZMVM['geometry'].centroid.x)\n",
    "data_ZMVM.insert(5, 'y', data_ZMVM['geometry'].centroid.y)"
   ]
  },
  {
   "cell_type": "markdown",
   "id": "03f13664",
   "metadata": {},
   "source": [
    "Vamos a usar la ubicación de los municipios y su población de 2020"
   ]
  },
  {
   "cell_type": "code",
   "execution_count": 5,
   "id": "b9aa1732",
   "metadata": {},
   "outputs": [],
   "source": [
    "cols = ['cve_umun', 'x', 'y']\n",
    "censo = data_ZMVM.loc[:, cols]\n",
    "censo.set_index('cve_umun', inplace=True)"
   ]
  },
  {
   "cell_type": "code",
   "execution_count": 6,
   "id": "82ba4504",
   "metadata": {},
   "outputs": [
    {
     "data": {
      "text/html": [
       "<div>\n",
       "<style scoped>\n",
       "    .dataframe tbody tr th:only-of-type {\n",
       "        vertical-align: middle;\n",
       "    }\n",
       "\n",
       "    .dataframe tbody tr th {\n",
       "        vertical-align: top;\n",
       "    }\n",
       "\n",
       "    .dataframe thead th {\n",
       "        text-align: right;\n",
       "    }\n",
       "</style>\n",
       "<table border=\"1\" class=\"dataframe\">\n",
       "  <thead>\n",
       "    <tr style=\"text-align: right;\">\n",
       "      <th></th>\n",
       "      <th>x</th>\n",
       "      <th>y</th>\n",
       "    </tr>\n",
       "    <tr>\n",
       "      <th>cve_umun</th>\n",
       "      <th></th>\n",
       "      <th></th>\n",
       "    </tr>\n",
       "  </thead>\n",
       "  <tbody>\n",
       "    <tr>\n",
       "      <th>09012</th>\n",
       "      <td>-99.206221</td>\n",
       "      <td>19.198340</td>\n",
       "    </tr>\n",
       "    <tr>\n",
       "      <th>09013</th>\n",
       "      <td>-99.090364</td>\n",
       "      <td>19.245145</td>\n",
       "    </tr>\n",
       "    <tr>\n",
       "      <th>09008</th>\n",
       "      <td>-99.268413</td>\n",
       "      <td>19.268977</td>\n",
       "    </tr>\n",
       "    <tr>\n",
       "      <th>09015</th>\n",
       "      <td>-99.149056</td>\n",
       "      <td>19.431373</td>\n",
       "    </tr>\n",
       "    <tr>\n",
       "      <th>09010</th>\n",
       "      <td>-99.246820</td>\n",
       "      <td>19.336176</td>\n",
       "    </tr>\n",
       "  </tbody>\n",
       "</table>\n",
       "</div>"
      ],
      "text/plain": [
       "                  x          y\n",
       "cve_umun                      \n",
       "09012    -99.206221  19.198340\n",
       "09013    -99.090364  19.245145\n",
       "09008    -99.268413  19.268977\n",
       "09015    -99.149056  19.431373\n",
       "09010    -99.246820  19.336176"
      ]
     },
     "execution_count": 6,
     "metadata": {},
     "output_type": "execute_result"
    }
   ],
   "source": [
    "censo.head()"
   ]
  },
  {
   "cell_type": "code",
   "execution_count": 7,
   "id": "b3684513",
   "metadata": {},
   "outputs": [
    {
     "data": {
      "text/html": [
       "<div>\n",
       "<style scoped>\n",
       "    .dataframe tbody tr th:only-of-type {\n",
       "        vertical-align: middle;\n",
       "    }\n",
       "\n",
       "    .dataframe tbody tr th {\n",
       "        vertical-align: top;\n",
       "    }\n",
       "\n",
       "    .dataframe thead th {\n",
       "        text-align: right;\n",
       "    }\n",
       "</style>\n",
       "<table border=\"1\" class=\"dataframe\">\n",
       "  <thead>\n",
       "    <tr style=\"text-align: right;\">\n",
       "      <th></th>\n",
       "      <th>pop</th>\n",
       "    </tr>\n",
       "    <tr>\n",
       "      <th>cve_umun</th>\n",
       "      <th></th>\n",
       "    </tr>\n",
       "  </thead>\n",
       "  <tbody>\n",
       "    <tr>\n",
       "      <th>09002</th>\n",
       "      <td>432205</td>\n",
       "    </tr>\n",
       "    <tr>\n",
       "      <th>09003</th>\n",
       "      <td>614447</td>\n",
       "    </tr>\n",
       "    <tr>\n",
       "      <th>09004</th>\n",
       "      <td>217686</td>\n",
       "    </tr>\n",
       "    <tr>\n",
       "      <th>09005</th>\n",
       "      <td>1173351</td>\n",
       "    </tr>\n",
       "    <tr>\n",
       "      <th>09006</th>\n",
       "      <td>404695</td>\n",
       "    </tr>\n",
       "  </tbody>\n",
       "</table>\n",
       "</div>"
      ],
      "text/plain": [
       "              pop\n",
       "cve_umun         \n",
       "09002      432205\n",
       "09003      614447\n",
       "09004      217686\n",
       "09005     1173351\n",
       "09006      404695"
      ]
     },
     "execution_count": 7,
     "metadata": {},
     "output_type": "execute_result"
    }
   ],
   "source": [
    "pob = pd.read_csv(\"https://raw.githubusercontent.com/edtrelo/COVID19Model/main/data/cleandata/pob_miZMVM.csv\", index_col = 0,\n",
    "                 dtype = {'cve_umun':str})\n",
    "pob.head()"
   ]
  },
  {
   "cell_type": "markdown",
   "id": "008355cf",
   "metadata": {},
   "source": [
    "Para encontrar la densidad de los municipios necesitamos el área de la superficie correspondiente:"
   ]
  },
  {
   "cell_type": "code",
   "execution_count": 8,
   "id": "67600e98",
   "metadata": {},
   "outputs": [],
   "source": [
    "url = 'https://es.wikipedia.org/wiki/Zona_metropolitana_del_valle_de_M%C3%A9xico'\n",
    "html = requests.get(url).content\n",
    "df_list = pd.read_html(html)\n",
    "# primer tabla de la página\n",
    "wiki_df = df_list[1]"
   ]
  },
  {
   "cell_type": "code",
   "execution_count": 9,
   "id": "e0e0cb1b",
   "metadata": {},
   "outputs": [],
   "source": [
    "wiki_df.set_index(0, inplace = True)"
   ]
  },
  {
   "cell_type": "code",
   "execution_count": 10,
   "id": "fa4c54b9",
   "metadata": {},
   "outputs": [],
   "source": [
    "sup = wiki_df.iloc[1:, 7].astype(float)"
   ]
  },
  {
   "cell_type": "markdown",
   "id": "2d3e6e20",
   "metadata": {},
   "source": [
    "### Conteo de CETRAMS"
   ]
  },
  {
   "cell_type": "markdown",
   "id": "e53d1f18",
   "metadata": {},
   "source": [
    "Teorizamos que los municipios con cetrams deben ser algunos de los que mayores contactos tienen:"
   ]
  },
  {
   "cell_type": "code",
   "execution_count": 11,
   "id": "8915aeb4",
   "metadata": {},
   "outputs": [],
   "source": [
    "cetrams = gpd.read_file(\"D:/Edgar Trejo/Universidad/Proyecto/COVID19Model/data/rawdata/ubicaciones transporte/cetram_shp\")"
   ]
  },
  {
   "cell_type": "code",
   "execution_count": 12,
   "id": "fb93eeb4",
   "metadata": {},
   "outputs": [],
   "source": [
    "def isin(point):\n",
    "    for i, polygon in enumerate(mapa_ZMVM['geometry']):\n",
    "        if polygon.contains(point):\n",
    "            return mapa_ZMVM.iloc[i, 0]"
   ]
  },
  {
   "cell_type": "code",
   "execution_count": 13,
   "id": "cd946bff",
   "metadata": {},
   "outputs": [],
   "source": [
    "cetrams['cve_umun'] = cetrams['geometry'].apply(isin)"
   ]
  },
  {
   "cell_type": "code",
   "execution_count": 14,
   "id": "3bfbf729",
   "metadata": {},
   "outputs": [],
   "source": [
    "cntcetrams = cetrams.groupby(['cve_umun']).size()"
   ]
  },
  {
   "cell_type": "markdown",
   "id": "9baa550e",
   "metadata": {},
   "source": [
    "### Conteo estaciones de Metro"
   ]
  },
  {
   "cell_type": "code",
   "execution_count": 208,
   "id": "88e17b1b",
   "metadata": {},
   "outputs": [],
   "source": [
    "metro = gpd.read_file(\"D:/Edgar Trejo/Universidad/Proyecto/COVID19Model/data/rawdata/ubicaciones transporte/stcmetro_shp\")"
   ]
  },
  {
   "cell_type": "code",
   "execution_count": 209,
   "id": "c2b4c940",
   "metadata": {},
   "outputs": [],
   "source": [
    "metro['cve_umun'] = metro['geometry'].apply(isin)"
   ]
  },
  {
   "cell_type": "code",
   "execution_count": 149,
   "id": "25495f17",
   "metadata": {},
   "outputs": [],
   "source": [
    "cntmetro = metro.groupby(['cve_umun']).size()"
   ]
  },
  {
   "cell_type": "markdown",
   "id": "c05de2b8",
   "metadata": {},
   "source": [
    "Las coordenadas de los archivos del MB están mal, así que sacamos los pares alcaldías-cves."
   ]
  },
  {
   "cell_type": "code",
   "execution_count": 220,
   "id": "dbd32700",
   "metadata": {},
   "outputs": [],
   "source": [
    "parAlcCve = metro[['ALCALDIAS', 'cve_umun']]"
   ]
  },
  {
   "cell_type": "code",
   "execution_count": 236,
   "id": "1694be53",
   "metadata": {},
   "outputs": [],
   "source": [
    "pares = parAlcCve.groupby('ALCALDIAS').first().to_dict()['cve_umun']"
   ]
  },
  {
   "cell_type": "code",
   "execution_count": 246,
   "id": "03b35d62",
   "metadata": {},
   "outputs": [],
   "source": [
    "pares['Tlalpan'] = '09012'\n",
    "pares['Xochimilco'] = '09013'"
   ]
  },
  {
   "cell_type": "markdown",
   "id": "798580fe",
   "metadata": {},
   "source": [
    "### Conteo estaciones de MB"
   ]
  },
  {
   "cell_type": "code",
   "execution_count": 216,
   "id": "690a94b8",
   "metadata": {},
   "outputs": [],
   "source": [
    "mb = gpd.read_file(\"D:/Edgar Trejo/Universidad/Proyecto/COVID19Model/data/rawdata/ubicaciones transporte/mb_shp/Metrobus_estaciones_utm14n.shp\")"
   ]
  },
  {
   "cell_type": "code",
   "execution_count": 247,
   "id": "a308a04a",
   "metadata": {},
   "outputs": [],
   "source": [
    "def apares(x):\n",
    "    try:\n",
    "        return pares[x]\n",
    "    except:\n",
    "        muns = x.split(' / ')\n",
    "        return pares[muns[0]]\n",
    "        "
   ]
  },
  {
   "cell_type": "code",
   "execution_count": 248,
   "id": "9711e316",
   "metadata": {},
   "outputs": [],
   "source": [
    "mb['cve_umun'] = mb['ALCALDIAS'].apply(apares)"
   ]
  },
  {
   "cell_type": "code",
   "execution_count": 250,
   "id": "5ab7a868",
   "metadata": {},
   "outputs": [],
   "source": [
    "cntmb = mb.groupby(['cve_umun']).size()"
   ]
  },
  {
   "cell_type": "markdown",
   "id": "f35059b7",
   "metadata": {},
   "source": [
    "### Formación de DataFrame"
   ]
  },
  {
   "cell_type": "markdown",
   "id": "df64cac4",
   "metadata": {},
   "source": [
    "Creamos el data frame con la info de cada municipio:"
   ]
  },
  {
   "cell_type": "code",
   "execution_count": 15,
   "id": "1fb57dae",
   "metadata": {},
   "outputs": [],
   "source": [
    "df = pd.concat([censo, pob, sup], join = 'inner', axis = 1)\n",
    "df.rename(columns = {8:'sup'}, inplace = True)"
   ]
  },
  {
   "cell_type": "code",
   "execution_count": 16,
   "id": "36be95b2",
   "metadata": {},
   "outputs": [],
   "source": [
    "df = pd.concat([df, cntcetrams], join = 'outer', axis = 1)\n",
    "df.fillna(0, inplace = True)\n",
    "df.rename(columns = {0:'cntcetrams'}, inplace = True)"
   ]
  },
  {
   "cell_type": "code",
   "execution_count": 368,
   "id": "339cde20",
   "metadata": {},
   "outputs": [],
   "source": [
    "#df = pd.concat([df, cntmetro], join = 'outer', axis = 1)\n",
    "#df.fillna(0, inplace = True)\n",
    "#df.rename(columns = {0:'cntmetro'}, inplace = True)"
   ]
  },
  {
   "cell_type": "code",
   "execution_count": 341,
   "id": "03f30d09",
   "metadata": {},
   "outputs": [],
   "source": [
    "#df = pd.concat([df, cntmb], join = 'outer', axis = 1)\n",
    "#df.fillna(0, inplace = True)\n",
    "#df.rename(columns = {0:'cntmb'}, inplace = True)"
   ]
  },
  {
   "cell_type": "markdown",
   "id": "6bfa1c8b",
   "metadata": {},
   "source": [
    "Calculamos la densidad"
   ]
  },
  {
   "cell_type": "code",
   "execution_count": 17,
   "id": "417671cd",
   "metadata": {},
   "outputs": [],
   "source": [
    "df['densidad'] = df['pop']/df['sup']"
   ]
  },
  {
   "cell_type": "code",
   "execution_count": 18,
   "id": "984a572e",
   "metadata": {},
   "outputs": [],
   "source": [
    "df.drop(['sup'], axis = 1, inplace = True); # ya no necesitamos la población"
   ]
  },
  {
   "cell_type": "code",
   "execution_count": 19,
   "id": "692f927f",
   "metadata": {},
   "outputs": [
    {
     "data": {
      "text/html": [
       "<div>\n",
       "<style scoped>\n",
       "    .dataframe tbody tr th:only-of-type {\n",
       "        vertical-align: middle;\n",
       "    }\n",
       "\n",
       "    .dataframe tbody tr th {\n",
       "        vertical-align: top;\n",
       "    }\n",
       "\n",
       "    .dataframe thead th {\n",
       "        text-align: right;\n",
       "    }\n",
       "</style>\n",
       "<table border=\"1\" class=\"dataframe\">\n",
       "  <thead>\n",
       "    <tr style=\"text-align: right;\">\n",
       "      <th></th>\n",
       "      <th>x</th>\n",
       "      <th>y</th>\n",
       "      <th>pop</th>\n",
       "      <th>cntcetrams</th>\n",
       "      <th>densidad</th>\n",
       "    </tr>\n",
       "  </thead>\n",
       "  <tbody>\n",
       "    <tr>\n",
       "      <th>09012</th>\n",
       "      <td>-99.206221</td>\n",
       "      <td>19.198340</td>\n",
       "      <td>699928</td>\n",
       "      <td>1.0</td>\n",
       "      <td>2225.526232</td>\n",
       "    </tr>\n",
       "    <tr>\n",
       "      <th>09013</th>\n",
       "      <td>-99.090364</td>\n",
       "      <td>19.245145</td>\n",
       "      <td>442178</td>\n",
       "      <td>2.0</td>\n",
       "      <td>3875.354952</td>\n",
       "    </tr>\n",
       "    <tr>\n",
       "      <th>09008</th>\n",
       "      <td>-99.268413</td>\n",
       "      <td>19.268977</td>\n",
       "      <td>247622</td>\n",
       "      <td>0.0</td>\n",
       "      <td>3905.709779</td>\n",
       "    </tr>\n",
       "    <tr>\n",
       "      <th>09015</th>\n",
       "      <td>-99.149056</td>\n",
       "      <td>19.431373</td>\n",
       "      <td>545884</td>\n",
       "      <td>3.0</td>\n",
       "      <td>16796.430769</td>\n",
       "    </tr>\n",
       "    <tr>\n",
       "      <th>09010</th>\n",
       "      <td>-99.246820</td>\n",
       "      <td>19.336176</td>\n",
       "      <td>759137</td>\n",
       "      <td>3.0</td>\n",
       "      <td>7915.922836</td>\n",
       "    </tr>\n",
       "  </tbody>\n",
       "</table>\n",
       "</div>"
      ],
      "text/plain": [
       "               x          y     pop  cntcetrams      densidad\n",
       "09012 -99.206221  19.198340  699928         1.0   2225.526232\n",
       "09013 -99.090364  19.245145  442178         2.0   3875.354952\n",
       "09008 -99.268413  19.268977  247622         0.0   3905.709779\n",
       "09015 -99.149056  19.431373  545884         3.0  16796.430769\n",
       "09010 -99.246820  19.336176  759137         3.0   7915.922836"
      ]
     },
     "execution_count": 19,
     "metadata": {},
     "output_type": "execute_result"
    }
   ],
   "source": [
    "df.head()"
   ]
  },
  {
   "cell_type": "markdown",
   "id": "afa2dff8",
   "metadata": {},
   "source": [
    "Le agregamos las personas que entran entre semana:"
   ]
  },
  {
   "cell_type": "code",
   "execution_count": 20,
   "id": "8b39a9d6",
   "metadata": {},
   "outputs": [],
   "source": [
    "M = pd.read_csv(\"https://raw.githubusercontent.com/edtrelo/COVID19Model/main/data/cleandata/viajes/viajes_entre_semana_por_cve_umun_2020.csv\", \n",
    "               index_col = 0, dtype = {'origen':str})"
   ]
  },
  {
   "cell_type": "code",
   "execution_count": 21,
   "id": "e32ae832",
   "metadata": {},
   "outputs": [],
   "source": [
    "entradas = M.sum(axis = 0)"
   ]
  },
  {
   "cell_type": "code",
   "execution_count": 27,
   "id": "9ea57bbf",
   "metadata": {},
   "outputs": [],
   "source": [
    "df = pd.concat([df, entradas], join = 'inner', axis = 1)\n",
    "df.rename(columns = {0:'entradas'}, inplace = True)"
   ]
  },
  {
   "cell_type": "code",
   "execution_count": 28,
   "id": "bcbb78ce",
   "metadata": {},
   "outputs": [
    {
     "data": {
      "text/html": [
       "<div>\n",
       "<style scoped>\n",
       "    .dataframe tbody tr th:only-of-type {\n",
       "        vertical-align: middle;\n",
       "    }\n",
       "\n",
       "    .dataframe tbody tr th {\n",
       "        vertical-align: top;\n",
       "    }\n",
       "\n",
       "    .dataframe thead th {\n",
       "        text-align: right;\n",
       "    }\n",
       "</style>\n",
       "<table border=\"1\" class=\"dataframe\">\n",
       "  <thead>\n",
       "    <tr style=\"text-align: right;\">\n",
       "      <th></th>\n",
       "      <th>x</th>\n",
       "      <th>y</th>\n",
       "      <th>pop</th>\n",
       "      <th>cntcetrams</th>\n",
       "      <th>densidad</th>\n",
       "      <th>entradas</th>\n",
       "    </tr>\n",
       "  </thead>\n",
       "  <tbody>\n",
       "    <tr>\n",
       "      <th>09012</th>\n",
       "      <td>-99.206221</td>\n",
       "      <td>19.198340</td>\n",
       "      <td>699928</td>\n",
       "      <td>1.0</td>\n",
       "      <td>2225.526232</td>\n",
       "      <td>1120265</td>\n",
       "    </tr>\n",
       "    <tr>\n",
       "      <th>09013</th>\n",
       "      <td>-99.090364</td>\n",
       "      <td>19.245145</td>\n",
       "      <td>442178</td>\n",
       "      <td>2.0</td>\n",
       "      <td>3875.354952</td>\n",
       "      <td>915416</td>\n",
       "    </tr>\n",
       "    <tr>\n",
       "      <th>09008</th>\n",
       "      <td>-99.268413</td>\n",
       "      <td>19.268977</td>\n",
       "      <td>247622</td>\n",
       "      <td>0.0</td>\n",
       "      <td>3905.709779</td>\n",
       "      <td>796415</td>\n",
       "    </tr>\n",
       "    <tr>\n",
       "      <th>09015</th>\n",
       "      <td>-99.149056</td>\n",
       "      <td>19.431373</td>\n",
       "      <td>545884</td>\n",
       "      <td>3.0</td>\n",
       "      <td>16796.430769</td>\n",
       "      <td>1778109</td>\n",
       "    </tr>\n",
       "    <tr>\n",
       "      <th>09010</th>\n",
       "      <td>-99.246820</td>\n",
       "      <td>19.336176</td>\n",
       "      <td>759137</td>\n",
       "      <td>3.0</td>\n",
       "      <td>7915.922836</td>\n",
       "      <td>1063702</td>\n",
       "    </tr>\n",
       "    <tr>\n",
       "      <th>09002</th>\n",
       "      <td>-99.182107</td>\n",
       "      <td>19.485329</td>\n",
       "      <td>432205</td>\n",
       "      <td>2.0</td>\n",
       "      <td>12901.641791</td>\n",
       "      <td>841454</td>\n",
       "    </tr>\n",
       "    <tr>\n",
       "      <th>09014</th>\n",
       "      <td>-99.161135</td>\n",
       "      <td>19.380642</td>\n",
       "      <td>434153</td>\n",
       "      <td>2.0</td>\n",
       "      <td>16260.411985</td>\n",
       "      <td>1117058</td>\n",
       "    </tr>\n",
       "    <tr>\n",
       "      <th>09005</th>\n",
       "      <td>-99.115864</td>\n",
       "      <td>19.504065</td>\n",
       "      <td>1173351</td>\n",
       "      <td>7.0</td>\n",
       "      <td>13348.703072</td>\n",
       "      <td>1641615</td>\n",
       "    </tr>\n",
       "    <tr>\n",
       "      <th>09004</th>\n",
       "      <td>-99.310729</td>\n",
       "      <td>19.324634</td>\n",
       "      <td>217686</td>\n",
       "      <td>0.0</td>\n",
       "      <td>3044.559441</td>\n",
       "      <td>641617</td>\n",
       "    </tr>\n",
       "    <tr>\n",
       "      <th>09016</th>\n",
       "      <td>-99.204567</td>\n",
       "      <td>19.428062</td>\n",
       "      <td>414470</td>\n",
       "      <td>2.0</td>\n",
       "      <td>8932.543103</td>\n",
       "      <td>1227576</td>\n",
       "    </tr>\n",
       "    <tr>\n",
       "      <th>09006</th>\n",
       "      <td>-99.094330</td>\n",
       "      <td>19.396912</td>\n",
       "      <td>404695</td>\n",
       "      <td>1.0</td>\n",
       "      <td>17519.264069</td>\n",
       "      <td>847709</td>\n",
       "    </tr>\n",
       "    <tr>\n",
       "      <th>09003</th>\n",
       "      <td>-99.150376</td>\n",
       "      <td>19.326667</td>\n",
       "      <td>614447</td>\n",
       "      <td>4.0</td>\n",
       "      <td>11399.758813</td>\n",
       "      <td>1357066</td>\n",
       "    </tr>\n",
       "    <tr>\n",
       "      <th>09017</th>\n",
       "      <td>-99.093106</td>\n",
       "      <td>19.430495</td>\n",
       "      <td>443704</td>\n",
       "      <td>6.0</td>\n",
       "      <td>13088.613569</td>\n",
       "      <td>1029365</td>\n",
       "    </tr>\n",
       "    <tr>\n",
       "      <th>09011</th>\n",
       "      <td>-99.002816</td>\n",
       "      <td>19.276995</td>\n",
       "      <td>392313</td>\n",
       "      <td>1.0</td>\n",
       "      <td>4572.412587</td>\n",
       "      <td>811852</td>\n",
       "    </tr>\n",
       "    <tr>\n",
       "      <th>09007</th>\n",
       "      <td>-99.056799</td>\n",
       "      <td>19.349163</td>\n",
       "      <td>1835486</td>\n",
       "      <td>6.0</td>\n",
       "      <td>16214.540636</td>\n",
       "      <td>2296282</td>\n",
       "    </tr>\n",
       "    <tr>\n",
       "      <th>09009</th>\n",
       "      <td>-99.051095</td>\n",
       "      <td>19.139457</td>\n",
       "      <td>152685</td>\n",
       "      <td>0.0</td>\n",
       "      <td>512.022133</td>\n",
       "      <td>578885</td>\n",
       "    </tr>\n",
       "    <tr>\n",
       "      <th>15104</th>\n",
       "      <td>-99.170146</td>\n",
       "      <td>19.542745</td>\n",
       "      <td>672202</td>\n",
       "      <td>0.0</td>\n",
       "      <td>8360.721393</td>\n",
       "      <td>1025239</td>\n",
       "    </tr>\n",
       "    <tr>\n",
       "      <th>15044</th>\n",
       "      <td>-99.088930</td>\n",
       "      <td>19.738717</td>\n",
       "      <td>28217</td>\n",
       "      <td>0.0</td>\n",
       "      <td>6003.617021</td>\n",
       "      <td>533942</td>\n",
       "    </tr>\n",
       "    <tr>\n",
       "      <th>15122</th>\n",
       "      <td>-98.948360</td>\n",
       "      <td>19.276389</td>\n",
       "      <td>391731</td>\n",
       "      <td>0.0</td>\n",
       "      <td>8406.244635</td>\n",
       "      <td>712749</td>\n",
       "    </tr>\n",
       "    <tr>\n",
       "      <th>15121</th>\n",
       "      <td>-99.225186</td>\n",
       "      <td>19.654567</td>\n",
       "      <td>555163</td>\n",
       "      <td>0.0</td>\n",
       "      <td>5042.352407</td>\n",
       "      <td>847190</td>\n",
       "    </tr>\n",
       "    <tr>\n",
       "      <th>15120</th>\n",
       "      <td>-99.071821</td>\n",
       "      <td>19.809107</td>\n",
       "      <td>280455</td>\n",
       "      <td>0.0</td>\n",
       "      <td>1254.271020</td>\n",
       "      <td>561157</td>\n",
       "    </tr>\n",
       "    <tr>\n",
       "      <th>15109</th>\n",
       "      <td>-99.144145</td>\n",
       "      <td>19.628159</td>\n",
       "      <td>516341</td>\n",
       "      <td>0.0</td>\n",
       "      <td>7292.951977</td>\n",
       "      <td>824879</td>\n",
       "    </tr>\n",
       "    <tr>\n",
       "      <th>15108</th>\n",
       "      <td>-99.127284</td>\n",
       "      <td>19.679457</td>\n",
       "      <td>157645</td>\n",
       "      <td>0.0</td>\n",
       "      <td>10105.448718</td>\n",
       "      <td>586808</td>\n",
       "    </tr>\n",
       "    <tr>\n",
       "      <th>15099</th>\n",
       "      <td>-98.827792</td>\n",
       "      <td>19.471624</td>\n",
       "      <td>277562</td>\n",
       "      <td>0.0</td>\n",
       "      <td>648.357860</td>\n",
       "      <td>756284</td>\n",
       "    </tr>\n",
       "    <tr>\n",
       "      <th>15100</th>\n",
       "      <td>-98.931008</td>\n",
       "      <td>19.596865</td>\n",
       "      <td>47044</td>\n",
       "      <td>0.0</td>\n",
       "      <td>2851.151515</td>\n",
       "      <td>521415</td>\n",
       "    </tr>\n",
       "    <tr>\n",
       "      <th>15095</th>\n",
       "      <td>-99.306194</td>\n",
       "      <td>19.725213</td>\n",
       "      <td>103696</td>\n",
       "      <td>0.0</td>\n",
       "      <td>500.704973</td>\n",
       "      <td>541405</td>\n",
       "    </tr>\n",
       "    <tr>\n",
       "      <th>15092</th>\n",
       "      <td>-98.870661</td>\n",
       "      <td>19.686319</td>\n",
       "      <td>58507</td>\n",
       "      <td>0.0</td>\n",
       "      <td>703.547379</td>\n",
       "      <td>594058</td>\n",
       "    </tr>\n",
       "    <tr>\n",
       "      <th>15091</th>\n",
       "      <td>-99.168185</td>\n",
       "      <td>19.762207</td>\n",
       "      <td>65459</td>\n",
       "      <td>0.0</td>\n",
       "      <td>2111.580645</td>\n",
       "      <td>505351</td>\n",
       "    </tr>\n",
       "    <tr>\n",
       "      <th>15083</th>\n",
       "      <td>-98.883777</td>\n",
       "      <td>19.188933</td>\n",
       "      <td>14130</td>\n",
       "      <td>0.0</td>\n",
       "      <td>483.904110</td>\n",
       "      <td>515325</td>\n",
       "    </tr>\n",
       "    <tr>\n",
       "      <th>15081</th>\n",
       "      <td>-98.986508</td>\n",
       "      <td>19.705837</td>\n",
       "      <td>547503</td>\n",
       "      <td>0.0</td>\n",
       "      <td>3489.502868</td>\n",
       "      <td>796696</td>\n",
       "    </tr>\n",
       "    <tr>\n",
       "      <th>15070</th>\n",
       "      <td>-98.947699</td>\n",
       "      <td>19.361019</td>\n",
       "      <td>304088</td>\n",
       "      <td>0.0</td>\n",
       "      <td>8308.415301</td>\n",
       "      <td>701277</td>\n",
       "    </tr>\n",
       "    <tr>\n",
       "      <th>15068</th>\n",
       "      <td>-98.809623</td>\n",
       "      <td>19.021888</td>\n",
       "      <td>30785</td>\n",
       "      <td>0.0</td>\n",
       "      <td>648.105263</td>\n",
       "      <td>548400</td>\n",
       "    </tr>\n",
       "    <tr>\n",
       "      <th>15060</th>\n",
       "      <td>-99.391728</td>\n",
       "      <td>19.624970</td>\n",
       "      <td>430601</td>\n",
       "      <td>0.0</td>\n",
       "      <td>1851.251075</td>\n",
       "      <td>722866</td>\n",
       "    </tr>\n",
       "    <tr>\n",
       "      <th>15058</th>\n",
       "      <td>-99.022700</td>\n",
       "      <td>19.422579</td>\n",
       "      <td>1077208</td>\n",
       "      <td>0.0</td>\n",
       "      <td>17017.503949</td>\n",
       "      <td>1477435</td>\n",
       "    </tr>\n",
       "    <tr>\n",
       "      <th>15057</th>\n",
       "      <td>-99.292605</td>\n",
       "      <td>19.471253</td>\n",
       "      <td>834434</td>\n",
       "      <td>0.0</td>\n",
       "      <td>5284.572514</td>\n",
       "      <td>1259866</td>\n",
       "    </tr>\n",
       "    <tr>\n",
       "      <th>15039</th>\n",
       "      <td>-98.779046</td>\n",
       "      <td>19.342797</td>\n",
       "      <td>542211</td>\n",
       "      <td>0.0</td>\n",
       "      <td>1673.490741</td>\n",
       "      <td>904259</td>\n",
       "    </tr>\n",
       "    <tr>\n",
       "      <th>15037</th>\n",
       "      <td>-99.339528</td>\n",
       "      <td>19.383101</td>\n",
       "      <td>284965</td>\n",
       "      <td>0.0</td>\n",
       "      <td>2022.462740</td>\n",
       "      <td>506468</td>\n",
       "    </tr>\n",
       "    <tr>\n",
       "      <th>15035</th>\n",
       "      <td>-99.255031</td>\n",
       "      <td>19.822629</td>\n",
       "      <td>163244</td>\n",
       "      <td>0.0</td>\n",
       "      <td>1362.637730</td>\n",
       "      <td>544998</td>\n",
       "    </tr>\n",
       "    <tr>\n",
       "      <th>15033</th>\n",
       "      <td>-99.043212</td>\n",
       "      <td>19.572784</td>\n",
       "      <td>1645352</td>\n",
       "      <td>0.0</td>\n",
       "      <td>10533.623560</td>\n",
       "      <td>2109844</td>\n",
       "    </tr>\n",
       "    <tr>\n",
       "      <th>15031</th>\n",
       "      <td>-98.947167</td>\n",
       "      <td>19.416236</td>\n",
       "      <td>705193</td>\n",
       "      <td>0.0</td>\n",
       "      <td>12939.321101</td>\n",
       "      <td>943328</td>\n",
       "    </tr>\n",
       "    <tr>\n",
       "      <th>15029</th>\n",
       "      <td>-98.878108</td>\n",
       "      <td>19.405417</td>\n",
       "      <td>200750</td>\n",
       "      <td>0.0</td>\n",
       "      <td>4757.109005</td>\n",
       "      <td>649340</td>\n",
       "    </tr>\n",
       "    <tr>\n",
       "      <th>15025</th>\n",
       "      <td>-98.831695</td>\n",
       "      <td>19.253601</td>\n",
       "      <td>400057</td>\n",
       "      <td>0.0</td>\n",
       "      <td>1776.452043</td>\n",
       "      <td>750113</td>\n",
       "    </tr>\n",
       "    <tr>\n",
       "      <th>15024</th>\n",
       "      <td>-99.159424</td>\n",
       "      <td>19.708239</td>\n",
       "      <td>178847</td>\n",
       "      <td>0.0</td>\n",
       "      <td>4383.504902</td>\n",
       "      <td>642463</td>\n",
       "    </tr>\n",
       "    <tr>\n",
       "      <th>15020</th>\n",
       "      <td>-99.102396</td>\n",
       "      <td>19.626290</td>\n",
       "      <td>293444</td>\n",
       "      <td>0.0</td>\n",
       "      <td>8384.114286</td>\n",
       "      <td>697246</td>\n",
       "    </tr>\n",
       "    <tr>\n",
       "      <th>15013</th>\n",
       "      <td>-99.274044</td>\n",
       "      <td>19.564807</td>\n",
       "      <td>523674</td>\n",
       "      <td>0.0</td>\n",
       "      <td>5636.964478</td>\n",
       "      <td>893210</td>\n",
       "    </tr>\n",
       "    <tr>\n",
       "      <th>15010</th>\n",
       "      <td>-99.147899</td>\n",
       "      <td>19.984509</td>\n",
       "      <td>31898</td>\n",
       "      <td>0.0</td>\n",
       "      <td>421.373844</td>\n",
       "      <td>536415</td>\n",
       "    </tr>\n",
       "    <tr>\n",
       "      <th>13069</th>\n",
       "      <td>-98.961184</td>\n",
       "      <td>19.852527</td>\n",
       "      <td>168302</td>\n",
       "      <td>0.0</td>\n",
       "      <td>2194.289439</td>\n",
       "      <td>565267</td>\n",
       "    </tr>\n",
       "  </tbody>\n",
       "</table>\n",
       "</div>"
      ],
      "text/plain": [
       "               x          y      pop  cntcetrams      densidad  entradas\n",
       "09012 -99.206221  19.198340   699928         1.0   2225.526232   1120265\n",
       "09013 -99.090364  19.245145   442178         2.0   3875.354952    915416\n",
       "09008 -99.268413  19.268977   247622         0.0   3905.709779    796415\n",
       "09015 -99.149056  19.431373   545884         3.0  16796.430769   1778109\n",
       "09010 -99.246820  19.336176   759137         3.0   7915.922836   1063702\n",
       "09002 -99.182107  19.485329   432205         2.0  12901.641791    841454\n",
       "09014 -99.161135  19.380642   434153         2.0  16260.411985   1117058\n",
       "09005 -99.115864  19.504065  1173351         7.0  13348.703072   1641615\n",
       "09004 -99.310729  19.324634   217686         0.0   3044.559441    641617\n",
       "09016 -99.204567  19.428062   414470         2.0   8932.543103   1227576\n",
       "09006 -99.094330  19.396912   404695         1.0  17519.264069    847709\n",
       "09003 -99.150376  19.326667   614447         4.0  11399.758813   1357066\n",
       "09017 -99.093106  19.430495   443704         6.0  13088.613569   1029365\n",
       "09011 -99.002816  19.276995   392313         1.0   4572.412587    811852\n",
       "09007 -99.056799  19.349163  1835486         6.0  16214.540636   2296282\n",
       "09009 -99.051095  19.139457   152685         0.0    512.022133    578885\n",
       "15104 -99.170146  19.542745   672202         0.0   8360.721393   1025239\n",
       "15044 -99.088930  19.738717    28217         0.0   6003.617021    533942\n",
       "15122 -98.948360  19.276389   391731         0.0   8406.244635    712749\n",
       "15121 -99.225186  19.654567   555163         0.0   5042.352407    847190\n",
       "15120 -99.071821  19.809107   280455         0.0   1254.271020    561157\n",
       "15109 -99.144145  19.628159   516341         0.0   7292.951977    824879\n",
       "15108 -99.127284  19.679457   157645         0.0  10105.448718    586808\n",
       "15099 -98.827792  19.471624   277562         0.0    648.357860    756284\n",
       "15100 -98.931008  19.596865    47044         0.0   2851.151515    521415\n",
       "15095 -99.306194  19.725213   103696         0.0    500.704973    541405\n",
       "15092 -98.870661  19.686319    58507         0.0    703.547379    594058\n",
       "15091 -99.168185  19.762207    65459         0.0   2111.580645    505351\n",
       "15083 -98.883777  19.188933    14130         0.0    483.904110    515325\n",
       "15081 -98.986508  19.705837   547503         0.0   3489.502868    796696\n",
       "15070 -98.947699  19.361019   304088         0.0   8308.415301    701277\n",
       "15068 -98.809623  19.021888    30785         0.0    648.105263    548400\n",
       "15060 -99.391728  19.624970   430601         0.0   1851.251075    722866\n",
       "15058 -99.022700  19.422579  1077208         0.0  17017.503949   1477435\n",
       "15057 -99.292605  19.471253   834434         0.0   5284.572514   1259866\n",
       "15039 -98.779046  19.342797   542211         0.0   1673.490741    904259\n",
       "15037 -99.339528  19.383101   284965         0.0   2022.462740    506468\n",
       "15035 -99.255031  19.822629   163244         0.0   1362.637730    544998\n",
       "15033 -99.043212  19.572784  1645352         0.0  10533.623560   2109844\n",
       "15031 -98.947167  19.416236   705193         0.0  12939.321101    943328\n",
       "15029 -98.878108  19.405417   200750         0.0   4757.109005    649340\n",
       "15025 -98.831695  19.253601   400057         0.0   1776.452043    750113\n",
       "15024 -99.159424  19.708239   178847         0.0   4383.504902    642463\n",
       "15020 -99.102396  19.626290   293444         0.0   8384.114286    697246\n",
       "15013 -99.274044  19.564807   523674         0.0   5636.964478    893210\n",
       "15010 -99.147899  19.984509    31898         0.0    421.373844    536415\n",
       "13069 -98.961184  19.852527   168302         0.0   2194.289439    565267"
      ]
     },
     "execution_count": 28,
     "metadata": {},
     "output_type": "execute_result"
    }
   ],
   "source": [
    "df"
   ]
  },
  {
   "cell_type": "markdown",
   "id": "77837db5",
   "metadata": {},
   "source": [
    "### K-means clustering\n",
    "\n",
    "Dado un número $k$ de clusters y datos $x\\in \\mathbb R^n$, buscamos $\\mu_1,...,\\mu_k\\in \\mathbb R^n$ centroides y $S_1,...,S_k$ clusters tales que se minimice la suma de cuadrados en los clusters (WCSS):\n",
    "\n",
    "$$\\sum_{i=1}^k \\sum_{x\\in S_i} ||x-\\mu_i||^2 $$"
   ]
  },
  {
   "cell_type": "markdown",
   "id": "05a3f549",
   "metadata": {},
   "source": [
    "Debemos normalizar todos los datos para que ninguna columna tenga más peso que otra:"
   ]
  },
  {
   "cell_type": "code",
   "execution_count": 29,
   "id": "41bf4b0d",
   "metadata": {},
   "outputs": [],
   "source": [
    "scaler = MinMaxScaler()\n",
    "scaled_df = scaler.fit_transform(df)"
   ]
  },
  {
   "cell_type": "markdown",
   "id": "a2591144",
   "metadata": {},
   "source": [
    "Veamos cómo se mejora la función objetivo respecto al número de clusters:"
   ]
  },
  {
   "cell_type": "code",
   "execution_count": 30,
   "id": "1c828037",
   "metadata": {},
   "outputs": [],
   "source": [
    "wcss = []\n",
    "\n",
    "for i in range(1, 20):\n",
    "    kmeans = KMeans(n_clusters = i)\n",
    "    kmeans.fit(scaled_df)\n",
    "    wcss.append(kmeans.inertia_)"
   ]
  },
  {
   "cell_type": "code",
   "execution_count": 31,
   "id": "5f0ea103",
   "metadata": {},
   "outputs": [
    {
     "data": {
      "image/png": "[encoded data removed]",
      "text/plain": [
       "<Figure size 576x432 with 1 Axes>"
      ]
     },
     "metadata": {
      "needs_background": "light"
     },
     "output_type": "display_data"
    }
   ],
   "source": [
    "fig, ax = plt.subplots(figsize = (8, 6))\n",
    "\n",
    "ax.plot(range(1,20), wcss, color = 'k', linewidth = 2, marker = 'o')\n",
    "ax.spines[['top', 'right']].set_visible(False)\n",
    "ax.set_xlabel('\\nNúmero de clusters', fontsize = 16)\n",
    "ax.set_ylabel('Valor de la Función a Minimizar', fontsize = 16)\n",
    "ax.set_xticks(range(2, 21, 2))\n",
    "ax.set_xticklabels(range(2, 21, 2), fontsize = 14)\n",
    "\n",
    "plt.show()"
   ]
  },
  {
   "cell_type": "code",
   "execution_count": 34,
   "id": "94e8e3a2",
   "metadata": {},
   "outputs": [],
   "source": [
    "kmeans = KMeans(n_clusters=5, max_iter=300)\n",
    "kmeans.fit(scaled_df);"
   ]
  },
  {
   "cell_type": "code",
   "execution_count": 35,
   "id": "d33a3093",
   "metadata": {},
   "outputs": [
    {
     "data": {
      "image/png": "[encoded data removed]",
      "text/plain": [
       "<Figure size 432x288 with 1 Axes>"
      ]
     },
     "metadata": {
      "needs_background": "light"
     },
     "output_type": "display_data"
    }
   ],
   "source": [
    "pca = PCA(n_components = 2)\n",
    "pca_data = pca.fit_transform(scaled_df)\n",
    "pca_df = pd.DataFrame(data = pca_data, columns = ['c1', 'c2'])\n",
    "pca_df['region'] = kmeans.labels_\n",
    "\n",
    "colors = np.array(['red', 'green', 'blue', 'orange', 'brown', 'pink', 'cyan'])\n",
    "plt.scatter(pca_df['c1'], pca_df['c2'], c = colors[pca_df.region])\n",
    "\n",
    "plt.show()"
   ]
  },
  {
   "cell_type": "code",
   "execution_count": 36,
   "id": "2c59f7f4",
   "metadata": {},
   "outputs": [],
   "source": [
    "mapa_ZMVM['region'] = kmeans.labels_\n",
    "regiones = mapa_ZMVM.dissolve(by=\"region\")"
   ]
  },
  {
   "cell_type": "code",
   "execution_count": 43,
   "id": "2839081a",
   "metadata": {},
   "outputs": [
    {
     "data": {
      "text/plain": [
       "array([3, 2, 3, 1, 1, 1, 1, 4, 3, 1, 1, 1, 1, 2, 4, 2, 3, 0, 2, 3, 0, 3,\n",
       "       3, 2, 0, 0, 0, 0, 2, 0, 2, 2, 3, 1, 3, 2, 3, 0, 4, 1, 2, 2, 0, 3,\n",
       "       3, 0, 0])"
      ]
     },
     "execution_count": 43,
     "metadata": {},
     "output_type": "execute_result"
    }
   ],
   "source": [
    "kmeans.labels_"
   ]
  },
  {
   "cell_type": "code",
   "execution_count": 83,
   "id": "ea04d13e",
   "metadata": {},
   "outputs": [],
   "source": [
    "romanos = {0:'I', 1:'II', 2:'III', 3:'IV', 4:'V'}"
   ]
  },
  {
   "cell_type": "code",
   "execution_count": 47,
   "id": "8c477465",
   "metadata": {},
   "outputs": [
    {
     "data": {
      "text/html": [
       "<div>\n",
       "<style scoped>\n",
       "    .dataframe tbody tr th:only-of-type {\n",
       "        vertical-align: middle;\n",
       "    }\n",
       "\n",
       "    .dataframe tbody tr th {\n",
       "        vertical-align: top;\n",
       "    }\n",
       "\n",
       "    .dataframe thead th {\n",
       "        text-align: right;\n",
       "    }\n",
       "</style>\n",
       "<table border=\"1\" class=\"dataframe\">\n",
       "  <thead>\n",
       "    <tr style=\"text-align: right;\">\n",
       "      <th></th>\n",
       "      <th>region</th>\n",
       "      <th>geometry</th>\n",
       "      <th>cve_umun</th>\n",
       "    </tr>\n",
       "  </thead>\n",
       "  <tbody>\n",
       "    <tr>\n",
       "      <th>0</th>\n",
       "      <td>0</td>\n",
       "      <td>MULTIPOLYGON (((-99.17514 19.69635, -99.17512 ...</td>\n",
       "      <td>15044</td>\n",
       "    </tr>\n",
       "    <tr>\n",
       "      <th>1</th>\n",
       "      <td>1</td>\n",
       "      <td>POLYGON ((-99.13772 19.35677, -99.13728 19.356...</td>\n",
       "      <td>09015</td>\n",
       "    </tr>\n",
       "    <tr>\n",
       "      <th>2</th>\n",
       "      <td>2</td>\n",
       "      <td>MULTIPOLYGON (((-98.95239 19.16864, -98.96561 ...</td>\n",
       "      <td>09013</td>\n",
       "    </tr>\n",
       "    <tr>\n",
       "      <th>3</th>\n",
       "      <td>3</td>\n",
       "      <td>MULTIPOLYGON (((-99.31534 19.22920, -99.32130 ...</td>\n",
       "      <td>09012</td>\n",
       "    </tr>\n",
       "    <tr>\n",
       "      <th>4</th>\n",
       "      <td>4</td>\n",
       "      <td>MULTIPOLYGON (((-99.05814 19.40069, -99.05793 ...</td>\n",
       "      <td>09005</td>\n",
       "    </tr>\n",
       "  </tbody>\n",
       "</table>\n",
       "</div>"
      ],
      "text/plain": [
       "   region                                           geometry cve_umun\n",
       "0       0  MULTIPOLYGON (((-99.17514 19.69635, -99.17512 ...    15044\n",
       "1       1  POLYGON ((-99.13772 19.35677, -99.13728 19.356...    09015\n",
       "2       2  MULTIPOLYGON (((-98.95239 19.16864, -98.96561 ...    09013\n",
       "3       3  MULTIPOLYGON (((-99.31534 19.22920, -99.32130 ...    09012\n",
       "4       4  MULTIPOLYGON (((-99.05814 19.40069, -99.05793 ...    09005"
      ]
     },
     "execution_count": 47,
     "metadata": {},
     "output_type": "execute_result"
    }
   ],
   "source": []
  },
  {
   "cell_type": "code",
   "execution_count": 52,
   "id": "5e04e0a9",
   "metadata": {},
   "outputs": [
    {
     "data": {
      "image/png": "[encoded data removed]",
      "text/plain": [
       "<Figure size 576x864 with 1 Axes>"
      ]
     },
     "metadata": {
      "needs_background": "light"
     },
     "output_type": "display_data"
    }
   ],
   "source": [
    "fig, ax = plt.subplots(figsize = (8, 12))\n",
    "\n",
    "regiones.plot(cmap = 'summer', ax = ax, legend = True)\n",
    "ax.axis('off')\n",
    "regiones.reset_index().apply(lambda x: ax.annotate(text=romanos[x['region']], \n",
    "                                     xy=x.geometry.centroid.coords[0], \n",
    "                                     ha='center',\n",
    "                                     fontsize = 26), axis=1)\n",
    "\n",
    "plt.show()"
   ]
  },
  {
   "cell_type": "code",
   "execution_count": 38,
   "id": "71070606",
   "metadata": {},
   "outputs": [],
   "source": [
    "mapa_ZMVM.to_file('D:/Edgar Trejo/Universidad/Proyecto/COVID19Model/data/cleandata/regionesmap/regiones.shp')"
   ]
  },
  {
   "cell_type": "code",
   "execution_count": 39,
   "id": "135359fb",
   "metadata": {},
   "outputs": [],
   "source": [
    "df = pd.DataFrame({'cve_umun': mapa_ZMVM['cve_umun'], 'region': mapa_ZMVM['region']})"
   ]
  },
  {
   "cell_type": "code",
   "execution_count": 40,
   "id": "41c61aac",
   "metadata": {},
   "outputs": [
    {
     "data": {
      "text/html": [
       "<div>\n",
       "<style scoped>\n",
       "    .dataframe tbody tr th:only-of-type {\n",
       "        vertical-align: middle;\n",
       "    }\n",
       "\n",
       "    .dataframe tbody tr th {\n",
       "        vertical-align: top;\n",
       "    }\n",
       "\n",
       "    .dataframe thead th {\n",
       "        text-align: right;\n",
       "    }\n",
       "</style>\n",
       "<table border=\"1\" class=\"dataframe\">\n",
       "  <thead>\n",
       "    <tr style=\"text-align: right;\">\n",
       "      <th></th>\n",
       "      <th>cve_umun</th>\n",
       "      <th>region</th>\n",
       "    </tr>\n",
       "  </thead>\n",
       "  <tbody>\n",
       "    <tr>\n",
       "      <th>0</th>\n",
       "      <td>09012</td>\n",
       "      <td>3</td>\n",
       "    </tr>\n",
       "    <tr>\n",
       "      <th>1</th>\n",
       "      <td>09013</td>\n",
       "      <td>2</td>\n",
       "    </tr>\n",
       "    <tr>\n",
       "      <th>2</th>\n",
       "      <td>09008</td>\n",
       "      <td>3</td>\n",
       "    </tr>\n",
       "    <tr>\n",
       "      <th>3</th>\n",
       "      <td>09015</td>\n",
       "      <td>1</td>\n",
       "    </tr>\n",
       "    <tr>\n",
       "      <th>4</th>\n",
       "      <td>09010</td>\n",
       "      <td>1</td>\n",
       "    </tr>\n",
       "  </tbody>\n",
       "</table>\n",
       "</div>"
      ],
      "text/plain": [
       "  cve_umun  region\n",
       "0    09012       3\n",
       "1    09013       2\n",
       "2    09008       3\n",
       "3    09015       1\n",
       "4    09010       1"
      ]
     },
     "execution_count": 40,
     "metadata": {},
     "output_type": "execute_result"
    }
   ],
   "source": [
    "df.head()"
   ]
  },
  {
   "cell_type": "code",
   "execution_count": 41,
   "id": "e26e58e9",
   "metadata": {},
   "outputs": [],
   "source": [
    "df.to_csv('D:/Edgar Trejo/Universidad/Proyecto/COVID19Model/data/transformeddata/regiones.csv',\n",
    "         index=False,  encoding = 'utf-8')"
   ]
  },
  {
   "cell_type": "code",
   "execution_count": 54,
   "id": "ad16c7aa",
   "metadata": {},
   "outputs": [],
   "source": [
    "pob = pd.read_csv(\"https://raw.githubusercontent.com/edtrelo/COVID19Model/main/data/cleandata/pob_reg.csv\", index_col = 0)"
   ]
  },
  {
   "cell_type": "code",
   "execution_count": 55,
   "id": "5781785e",
   "metadata": {},
   "outputs": [],
   "source": [
    "pob = pob['pop'].to_list()"
   ]
  },
  {
   "cell_type": "code",
   "execution_count": 59,
   "id": "c43d202a",
   "metadata": {},
   "outputs": [],
   "source": [
    "es = pd.read_csv(\"https://raw.githubusercontent.com/edtrelo/COVID19Model/main/data/cleandata/viajes/viajes_es_reg.csv\",\n",
    "                index_col = 0)"
   ]
  },
  {
   "cell_type": "code",
   "execution_count": 60,
   "id": "06795ac4",
   "metadata": {},
   "outputs": [
    {
     "data": {
      "text/html": [
       "<div>\n",
       "<style scoped>\n",
       "    .dataframe tbody tr th:only-of-type {\n",
       "        vertical-align: middle;\n",
       "    }\n",
       "\n",
       "    .dataframe tbody tr th {\n",
       "        vertical-align: top;\n",
       "    }\n",
       "\n",
       "    .dataframe thead th {\n",
       "        text-align: right;\n",
       "    }\n",
       "</style>\n",
       "<table border=\"1\" class=\"dataframe\">\n",
       "  <thead>\n",
       "    <tr style=\"text-align: right;\">\n",
       "      <th></th>\n",
       "      <th>0</th>\n",
       "      <th>1</th>\n",
       "      <th>2</th>\n",
       "      <th>3</th>\n",
       "      <th>4</th>\n",
       "    </tr>\n",
       "    <tr>\n",
       "      <th>region</th>\n",
       "      <th></th>\n",
       "      <th></th>\n",
       "      <th></th>\n",
       "      <th></th>\n",
       "      <th></th>\n",
       "    </tr>\n",
       "  </thead>\n",
       "  <tbody>\n",
       "    <tr>\n",
       "      <th>0</th>\n",
       "      <td>2382289</td>\n",
       "      <td>1079334</td>\n",
       "      <td>1141035</td>\n",
       "      <td>1359242</td>\n",
       "      <td>384878</td>\n",
       "    </tr>\n",
       "    <tr>\n",
       "      <th>1</th>\n",
       "      <td>1076048</td>\n",
       "      <td>6282064</td>\n",
       "      <td>1334889</td>\n",
       "      <td>1777230</td>\n",
       "      <td>1182559</td>\n",
       "    </tr>\n",
       "    <tr>\n",
       "      <th>2</th>\n",
       "      <td>1141251</td>\n",
       "      <td>1349372</td>\n",
       "      <td>3623554</td>\n",
       "      <td>1308268</td>\n",
       "      <td>440746</td>\n",
       "    </tr>\n",
       "    <tr>\n",
       "      <th>3</th>\n",
       "      <td>1358850</td>\n",
       "      <td>1782918</td>\n",
       "      <td>1305329</td>\n",
       "      <td>4939680</td>\n",
       "      <td>535819</td>\n",
       "    </tr>\n",
       "    <tr>\n",
       "      <th>4</th>\n",
       "      <td>384729</td>\n",
       "      <td>1189114</td>\n",
       "      <td>439093</td>\n",
       "      <td>537649</td>\n",
       "      <td>3503739</td>\n",
       "    </tr>\n",
       "  </tbody>\n",
       "</table>\n",
       "</div>"
      ],
      "text/plain": [
       "              0        1        2        3        4\n",
       "region                                             \n",
       "0       2382289  1079334  1141035  1359242   384878\n",
       "1       1076048  6282064  1334889  1777230  1182559\n",
       "2       1141251  1349372  3623554  1308268   440746\n",
       "3       1358850  1782918  1305329  4939680   535819\n",
       "4        384729  1189114   439093   537649  3503739"
      ]
     },
     "execution_count": 60,
     "metadata": {},
     "output_type": "execute_result"
    }
   ],
   "source": [
    "es"
   ]
  },
  {
   "cell_type": "code",
   "execution_count": 56,
   "id": "55fd67f9",
   "metadata": {},
   "outputs": [
    {
     "data": {
      "text/plain": [
       "[1673172, 5831096, 3148490, 5433705, 4654189]"
      ]
     },
     "execution_count": 56,
     "metadata": {},
     "output_type": "execute_result"
    }
   ],
   "source": [
    "pob"
   ]
  },
  {
   "cell_type": "code",
   "execution_count": 58,
   "id": "bdc2597c",
   "metadata": {},
   "outputs": [
    {
     "data": {
      "text/html": [
       "<div>\n",
       "<style scoped>\n",
       "    .dataframe tbody tr th:only-of-type {\n",
       "        vertical-align: middle;\n",
       "    }\n",
       "\n",
       "    .dataframe tbody tr th {\n",
       "        vertical-align: top;\n",
       "    }\n",
       "\n",
       "    .dataframe thead th {\n",
       "        text-align: right;\n",
       "    }\n",
       "</style>\n",
       "<table border=\"1\" class=\"dataframe\">\n",
       "  <thead>\n",
       "    <tr style=\"text-align: right;\">\n",
       "      <th></th>\n",
       "      <th>region</th>\n",
       "      <th>geometry</th>\n",
       "      <th>cve_umun</th>\n",
       "    </tr>\n",
       "  </thead>\n",
       "  <tbody>\n",
       "    <tr>\n",
       "      <th>0</th>\n",
       "      <td>0</td>\n",
       "      <td>MULTIPOLYGON (((-99.17514 19.69635, -99.17512 ...</td>\n",
       "      <td>15044</td>\n",
       "    </tr>\n",
       "    <tr>\n",
       "      <th>1</th>\n",
       "      <td>1</td>\n",
       "      <td>POLYGON ((-99.13772 19.35677, -99.13728 19.356...</td>\n",
       "      <td>09015</td>\n",
       "    </tr>\n",
       "    <tr>\n",
       "      <th>2</th>\n",
       "      <td>2</td>\n",
       "      <td>MULTIPOLYGON (((-98.95239 19.16864, -98.96561 ...</td>\n",
       "      <td>09013</td>\n",
       "    </tr>\n",
       "    <tr>\n",
       "      <th>3</th>\n",
       "      <td>3</td>\n",
       "      <td>MULTIPOLYGON (((-99.31534 19.22920, -99.32130 ...</td>\n",
       "      <td>09012</td>\n",
       "    </tr>\n",
       "    <tr>\n",
       "      <th>4</th>\n",
       "      <td>4</td>\n",
       "      <td>MULTIPOLYGON (((-99.05814 19.40069, -99.05793 ...</td>\n",
       "      <td>09005</td>\n",
       "    </tr>\n",
       "  </tbody>\n",
       "</table>\n",
       "</div>"
      ],
      "text/plain": [
       "   region                                           geometry cve_umun\n",
       "0       0  MULTIPOLYGON (((-99.17514 19.69635, -99.17512 ...    15044\n",
       "1       1  POLYGON ((-99.13772 19.35677, -99.13728 19.356...    09015\n",
       "2       2  MULTIPOLYGON (((-98.95239 19.16864, -98.96561 ...    09013\n",
       "3       3  MULTIPOLYGON (((-99.31534 19.22920, -99.32130 ...    09012\n",
       "4       4  MULTIPOLYGON (((-99.05814 19.40069, -99.05793 ...    09005"
      ]
     },
     "execution_count": 58,
     "metadata": {},
     "output_type": "execute_result"
    }
   ],
   "source": [
    "regiones.reset_index()"
   ]
  },
  {
   "cell_type": "code",
   "execution_count": 144,
   "id": "9ddda5ba",
   "metadata": {},
   "outputs": [],
   "source": [
    "G = nx.Graph()\n",
    "\n",
    "for i in range(5):\n",
    "    for j in range(5):\n",
    "        if i == j:\n",
    "            pass\n",
    "        else:\n",
    "            G.add_edge(i, j)\n",
    "            G[i][j]['weight'] = es.iloc[j, i]"
   ]
  },
  {
   "cell_type": "code",
   "execution_count": 145,
   "id": "fb622478",
   "metadata": {},
   "outputs": [],
   "source": [
    "P = lambda p: (p.x, p.y)"
   ]
  },
  {
   "cell_type": "code",
   "execution_count": 146,
   "id": "5c952136",
   "metadata": {},
   "outputs": [],
   "source": [
    "centros = regiones.geometry.to_crs(epsg=4087).centroid"
   ]
  },
  {
   "cell_type": "code",
   "execution_count": 147,
   "id": "5c115a89",
   "metadata": {},
   "outputs": [],
   "source": [
    "lats = centros.map(P).to_numpy()"
   ]
  },
  {
   "cell_type": "code",
   "execution_count": 148,
   "id": "4fcabf17",
   "metadata": {},
   "outputs": [],
   "source": [
    "pos = {}\n",
    "for i in range(5):\n",
    "    pos[i] = lats[i]"
   ]
  },
  {
   "cell_type": "code",
   "execution_count": 149,
   "id": "66cb9726",
   "metadata": {},
   "outputs": [],
   "source": [
    "colores = ['dodgerblue', 'green', 'peru', 'c', 'firebrick']"
   ]
  },
  {
   "cell_type": "code",
   "execution_count": 150,
   "id": "090333ee",
   "metadata": {},
   "outputs": [],
   "source": [
    "pobN = np.array(pob)/max(pob)"
   ]
  },
  {
   "cell_type": "code",
   "execution_count": 151,
   "id": "5b829a07",
   "metadata": {},
   "outputs": [
    {
     "data": {
      "text/plain": [
       "{0: (-11033132.69723048, 2201386.9055932555),\n",
       " 1: (-11035133.698918633, 2159087.060826507),\n",
       " 2: (-11008724.996251479, 2149131.574729938),\n",
       " 3: (-11050272.61819805, 2165027.464715384),\n",
       " 4: (-11027908.774930838, 2169070.916819755)}"
      ]
     },
     "execution_count": 151,
     "metadata": {},
     "output_type": "execute_result"
    }
   ],
   "source": [
    "pos"
   ]
  },
  {
   "cell_type": "code",
   "execution_count": 152,
   "id": "cb6e4454",
   "metadata": {},
   "outputs": [],
   "source": [
    "pos[4] = (0, 0)\n",
    "pos[1] = (-2, -4)\n",
    "pos[0] = (-1, 6)\n",
    "pos[3] = (-6, -1)\n",
    "pos[2] = (6, -3)"
   ]
  },
  {
   "cell_type": "code",
   "execution_count": 153,
   "id": "1599572f",
   "metadata": {},
   "outputs": [],
   "source": [
    "plt.rcParams[\"font.family\"] = \"Times New Roman\""
   ]
  },
  {
   "cell_type": "code",
   "execution_count": null,
   "id": "8ba30d51",
   "metadata": {},
   "outputs": [],
   "source": []
  },
  {
   "cell_type": "code",
   "execution_count": 154,
   "id": "d9bbec46",
   "metadata": {},
   "outputs": [],
   "source": [
    "weights = np.array([G[u][v]['weight'] for u,v in G.edges()])"
   ]
  },
  {
   "cell_type": "code",
   "execution_count": 155,
   "id": "43905f01",
   "metadata": {},
   "outputs": [
    {
     "data": {
      "image/png": "[encoded data removed]",
      "text/plain": [
       "<Figure size 576x576 with 1 Axes>"
      ]
     },
     "metadata": {},
     "output_type": "display_data"
    }
   ],
   "source": [
    "fig, ax = plt.subplots(figsize = (8, 8))\n",
    "\n",
    "\n",
    "nx.draw(G, pos = pos, ax = ax, node_color = colores, node_size = pobN*5000, alpha = 1.0, \n",
    "        width = weights/max(weights)*7)\n",
    "\n",
    "nx.draw_networkx_labels(G,pos=pos, labels = romanos, font_family = \"Times New Roman\", font_size = 20,\n",
    "                       font_color = 'k')\n",
    "\n",
    "plt.show()"
   ]
  },
  {
   "cell_type": "code",
   "execution_count": null,
   "id": "28b006ba",
   "metadata": {},
   "outputs": [],
   "source": []
  }
 ],
 "metadata": {
  "kernelspec": {
   "display_name": "Python 3 (ipykernel)",
   "language": "python",
   "name": "python3"
  },
  "language_info": {
   "codemirror_mode": {
    "name": "ipython",
    "version": 3
   },
   "file_extension": ".py",
   "mimetype": "text/x-python",
   "name": "python",
   "nbconvert_exporter": "python",
   "pygments_lexer": "ipython3",
   "version": "3.8.3"
  }
 },
 "nbformat": 4,
 "nbformat_minor": 5
}
