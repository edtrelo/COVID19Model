{
 "cells": [
  {
   "cell_type": "code",
   "execution_count": 85,
   "id": "04362579",
   "metadata": {},
   "outputs": [],
   "source": [
    "import warnings\n",
    "warnings.filterwarnings('ignore')\n",
    "import pandas as pd\n",
    "import requests\n",
    "import pickle as pkl\n",
    "import geopandas as gpd\n",
    "import numpy as np\n",
    "import matplotlib.pyplot as plt\n",
    "from sklearn.cluster import KMeans\n",
    "from sklearn.preprocessing import MinMaxScaler, StandardScaler\n",
    "from sklearn.decomposition import PCA\n",
    "from scipy import stats\n",
    "import networkx as nx\n",
    "plt.rcParams[\"font.family\"] = \"Times New Roman\""
   ]
  },
  {
   "cell_type": "markdown",
   "id": "558d170c",
   "metadata": {},
   "source": [
    "## Regionalización (Clustering)\n",
    "\n",
    "En Calvetti, et. al. (2020) argumentan que considerar a los $\\beta r_k$ se debe a que cada patch debe tener densidades diferentes y por ello la dinámica de contactos debe ser diferente. Dada la densidad de un municipio y su ubicación, queremos agruparlos en $k$ regiones de tal forma que los municipios de la misma región \"se parezcan\".\n",
    "\n",
    "Vamos a concatenar las tres tablas de viajes:\n",
    "\n",
    "En el archivo shp tenemos datos sobre las poblaciones de los municipios. Vamos a usar esos datos para el proceso de clustering:"
   ]
  },
  {
   "cell_type": "code",
   "execution_count": 2,
   "id": "74a26a88",
   "metadata": {},
   "outputs": [],
   "source": [
    "filepath = \"D:/Edgar Trejo/Universidad/Proyecto/COVID19Model/data/cleandata/miZMVMmap/miZMVM.shp\"\n",
    "# leemos el mapa de todos los municipios de MX\n",
    "data_ZMVM = gpd.read_file(filepath, encoding = 'latin')"
   ]
  },
  {
   "cell_type": "code",
   "execution_count": 3,
   "id": "a13e3231",
   "metadata": {},
   "outputs": [],
   "source": [
    "mapa_ZMVM = data_ZMVM[['cve_umun', 'geometry']]"
   ]
  },
  {
   "cell_type": "markdown",
   "id": "ca5d0e0f",
   "metadata": {},
   "source": [
    "Obtenemos los centroides"
   ]
  },
  {
   "cell_type": "code",
   "execution_count": 4,
   "id": "85da87e3",
   "metadata": {},
   "outputs": [],
   "source": [
    "data_ZMVM.insert(4, 'x', data_ZMVM['geometry'].centroid.x)\n",
    "data_ZMVM.insert(5, 'y', data_ZMVM['geometry'].centroid.y)"
   ]
  },
  {
   "cell_type": "markdown",
   "id": "03f13664",
   "metadata": {},
   "source": [
    "Vamos a usar la ubicación de los municipios y su población de 2020"
   ]
  },
  {
   "cell_type": "code",
   "execution_count": 188,
   "id": "b9aa1732",
   "metadata": {},
   "outputs": [],
   "source": [
    "cols = ['cve_umun', 'x', 'y']\n",
    "censo = data_ZMVM.loc[:, cols]\n",
    "censo.set_index('cve_umun', inplace=True)"
   ]
  },
  {
   "cell_type": "code",
   "execution_count": 189,
   "id": "82ba4504",
   "metadata": {},
   "outputs": [
    {
     "data": {
      "text/html": [
       "<div>\n",
       "<style scoped>\n",
       "    .dataframe tbody tr th:only-of-type {\n",
       "        vertical-align: middle;\n",
       "    }\n",
       "\n",
       "    .dataframe tbody tr th {\n",
       "        vertical-align: top;\n",
       "    }\n",
       "\n",
       "    .dataframe thead th {\n",
       "        text-align: right;\n",
       "    }\n",
       "</style>\n",
       "<table border=\"1\" class=\"dataframe\">\n",
       "  <thead>\n",
       "    <tr style=\"text-align: right;\">\n",
       "      <th></th>\n",
       "      <th>x</th>\n",
       "      <th>y</th>\n",
       "    </tr>\n",
       "    <tr>\n",
       "      <th>cve_umun</th>\n",
       "      <th></th>\n",
       "      <th></th>\n",
       "    </tr>\n",
       "  </thead>\n",
       "  <tbody>\n",
       "    <tr>\n",
       "      <th>09012</th>\n",
       "      <td>-99.206221</td>\n",
       "      <td>19.198340</td>\n",
       "    </tr>\n",
       "    <tr>\n",
       "      <th>09013</th>\n",
       "      <td>-99.090364</td>\n",
       "      <td>19.245145</td>\n",
       "    </tr>\n",
       "    <tr>\n",
       "      <th>09008</th>\n",
       "      <td>-99.268413</td>\n",
       "      <td>19.268977</td>\n",
       "    </tr>\n",
       "    <tr>\n",
       "      <th>09015</th>\n",
       "      <td>-99.149056</td>\n",
       "      <td>19.431373</td>\n",
       "    </tr>\n",
       "    <tr>\n",
       "      <th>09010</th>\n",
       "      <td>-99.246820</td>\n",
       "      <td>19.336176</td>\n",
       "    </tr>\n",
       "  </tbody>\n",
       "</table>\n",
       "</div>"
      ],
      "text/plain": [
       "                  x          y\n",
       "cve_umun                      \n",
       "09012    -99.206221  19.198340\n",
       "09013    -99.090364  19.245145\n",
       "09008    -99.268413  19.268977\n",
       "09015    -99.149056  19.431373\n",
       "09010    -99.246820  19.336176"
      ]
     },
     "execution_count": 189,
     "metadata": {},
     "output_type": "execute_result"
    }
   ],
   "source": [
    "censo.head()"
   ]
  },
  {
   "cell_type": "code",
   "execution_count": 190,
   "id": "b3684513",
   "metadata": {},
   "outputs": [
    {
     "data": {
      "text/html": [
       "<div>\n",
       "<style scoped>\n",
       "    .dataframe tbody tr th:only-of-type {\n",
       "        vertical-align: middle;\n",
       "    }\n",
       "\n",
       "    .dataframe tbody tr th {\n",
       "        vertical-align: top;\n",
       "    }\n",
       "\n",
       "    .dataframe thead th {\n",
       "        text-align: right;\n",
       "    }\n",
       "</style>\n",
       "<table border=\"1\" class=\"dataframe\">\n",
       "  <thead>\n",
       "    <tr style=\"text-align: right;\">\n",
       "      <th></th>\n",
       "      <th>pop</th>\n",
       "    </tr>\n",
       "    <tr>\n",
       "      <th>cve_umun</th>\n",
       "      <th></th>\n",
       "    </tr>\n",
       "  </thead>\n",
       "  <tbody>\n",
       "    <tr>\n",
       "      <th>09002</th>\n",
       "      <td>432205</td>\n",
       "    </tr>\n",
       "    <tr>\n",
       "      <th>09003</th>\n",
       "      <td>614447</td>\n",
       "    </tr>\n",
       "    <tr>\n",
       "      <th>09004</th>\n",
       "      <td>217686</td>\n",
       "    </tr>\n",
       "    <tr>\n",
       "      <th>09005</th>\n",
       "      <td>1173351</td>\n",
       "    </tr>\n",
       "    <tr>\n",
       "      <th>09006</th>\n",
       "      <td>404695</td>\n",
       "    </tr>\n",
       "  </tbody>\n",
       "</table>\n",
       "</div>"
      ],
      "text/plain": [
       "              pop\n",
       "cve_umun         \n",
       "09002      432205\n",
       "09003      614447\n",
       "09004      217686\n",
       "09005     1173351\n",
       "09006      404695"
      ]
     },
     "execution_count": 190,
     "metadata": {},
     "output_type": "execute_result"
    }
   ],
   "source": [
    "pob = pd.read_csv(\"https://raw.githubusercontent.com/edtrelo/COVID19Model/main/data/cleandata/pob_miZMVM.csv\", index_col = 0,\n",
    "                 dtype = {'cve_umun':str})\n",
    "pob.head()"
   ]
  },
  {
   "cell_type": "markdown",
   "id": "008355cf",
   "metadata": {},
   "source": [
    "Para encontrar la densidad de los municipios necesitamos el área de la superficie correspondiente:"
   ]
  },
  {
   "cell_type": "code",
   "execution_count": 191,
   "id": "67600e98",
   "metadata": {},
   "outputs": [],
   "source": [
    "url = 'https://es.wikipedia.org/wiki/Zona_metropolitana_del_valle_de_M%C3%A9xico'\n",
    "html = requests.get(url).content\n",
    "df_list = pd.read_html(html)\n",
    "# primer tabla de la página\n",
    "wiki_df = df_list[1]"
   ]
  },
  {
   "cell_type": "code",
   "execution_count": 192,
   "id": "e0e0cb1b",
   "metadata": {},
   "outputs": [],
   "source": [
    "wiki_df.set_index(0, inplace = True)"
   ]
  },
  {
   "cell_type": "code",
   "execution_count": 193,
   "id": "fa4c54b9",
   "metadata": {},
   "outputs": [],
   "source": [
    "sup = wiki_df.iloc[1:, 7].astype(float)"
   ]
  },
  {
   "cell_type": "markdown",
   "id": "2d3e6e20",
   "metadata": {},
   "source": [
    "### Conteo de CETRAMS"
   ]
  },
  {
   "cell_type": "markdown",
   "id": "e53d1f18",
   "metadata": {},
   "source": [
    "Teorizamos que los municipios con cetrams deben ser algunos de los que mayores contactos tienen:"
   ]
  },
  {
   "cell_type": "code",
   "execution_count": 194,
   "id": "8915aeb4",
   "metadata": {},
   "outputs": [],
   "source": [
    "cetrams = gpd.read_file(\"D:/Edgar Trejo/Universidad/Proyecto/COVID19Model/data/rawdata/ubicaciones transporte/cetram_shp\")"
   ]
  },
  {
   "cell_type": "code",
   "execution_count": 195,
   "id": "fb93eeb4",
   "metadata": {},
   "outputs": [],
   "source": [
    "def isin(point):\n",
    "    for i, polygon in enumerate(mapa_ZMVM['geometry']):\n",
    "        if polygon.contains(point):\n",
    "            return mapa_ZMVM.iloc[i, 0]"
   ]
  },
  {
   "cell_type": "code",
   "execution_count": 196,
   "id": "cd946bff",
   "metadata": {},
   "outputs": [],
   "source": [
    "cetrams['cve_umun'] = cetrams['geometry'].apply(isin)"
   ]
  },
  {
   "cell_type": "code",
   "execution_count": 197,
   "id": "3bfbf729",
   "metadata": {},
   "outputs": [],
   "source": [
    "cntcetrams = cetrams.groupby(['cve_umun']).size()"
   ]
  },
  {
   "cell_type": "markdown",
   "id": "9baa550e",
   "metadata": {},
   "source": [
    "### Conteo estaciones de Metro"
   ]
  },
  {
   "cell_type": "code",
   "execution_count": 208,
   "id": "88e17b1b",
   "metadata": {},
   "outputs": [],
   "source": [
    "metro = gpd.read_file(\"D:/Edgar Trejo/Universidad/Proyecto/COVID19Model/data/rawdata/ubicaciones transporte/stcmetro_shp\")"
   ]
  },
  {
   "cell_type": "code",
   "execution_count": 209,
   "id": "c2b4c940",
   "metadata": {},
   "outputs": [],
   "source": [
    "metro['cve_umun'] = metro['geometry'].apply(isin)"
   ]
  },
  {
   "cell_type": "code",
   "execution_count": 149,
   "id": "25495f17",
   "metadata": {},
   "outputs": [],
   "source": [
    "cntmetro = metro.groupby(['cve_umun']).size()"
   ]
  },
  {
   "cell_type": "markdown",
   "id": "c05de2b8",
   "metadata": {},
   "source": [
    "Las coordenadas de los archivos del MB están mal, así que sacamos los pares alcaldías-cves."
   ]
  },
  {
   "cell_type": "code",
   "execution_count": 220,
   "id": "dbd32700",
   "metadata": {},
   "outputs": [],
   "source": [
    "parAlcCve = metro[['ALCALDIAS', 'cve_umun']]"
   ]
  },
  {
   "cell_type": "code",
   "execution_count": 236,
   "id": "1694be53",
   "metadata": {},
   "outputs": [],
   "source": [
    "pares = parAlcCve.groupby('ALCALDIAS').first().to_dict()['cve_umun']"
   ]
  },
  {
   "cell_type": "code",
   "execution_count": 246,
   "id": "03b35d62",
   "metadata": {},
   "outputs": [],
   "source": [
    "pares['Tlalpan'] = '09012'\n",
    "pares['Xochimilco'] = '09013'"
   ]
  },
  {
   "cell_type": "markdown",
   "id": "798580fe",
   "metadata": {},
   "source": [
    "### Conteo estaciones de MB"
   ]
  },
  {
   "cell_type": "code",
   "execution_count": 216,
   "id": "690a94b8",
   "metadata": {},
   "outputs": [],
   "source": [
    "mb = gpd.read_file(\"D:/Edgar Trejo/Universidad/Proyecto/COVID19Model/data/rawdata/ubicaciones transporte/mb_shp/Metrobus_estaciones_utm14n.shp\")"
   ]
  },
  {
   "cell_type": "code",
   "execution_count": 247,
   "id": "a308a04a",
   "metadata": {},
   "outputs": [],
   "source": [
    "def apares(x):\n",
    "    try:\n",
    "        return pares[x]\n",
    "    except:\n",
    "        muns = x.split(' / ')\n",
    "        return pares[muns[0]]\n",
    "        "
   ]
  },
  {
   "cell_type": "code",
   "execution_count": 248,
   "id": "9711e316",
   "metadata": {},
   "outputs": [],
   "source": [
    "mb['cve_umun'] = mb['ALCALDIAS'].apply(apares)"
   ]
  },
  {
   "cell_type": "code",
   "execution_count": 250,
   "id": "5ab7a868",
   "metadata": {},
   "outputs": [],
   "source": [
    "cntmb = mb.groupby(['cve_umun']).size()"
   ]
  },
  {
   "cell_type": "markdown",
   "id": "f35059b7",
   "metadata": {},
   "source": [
    "### Formación de DataFrame"
   ]
  },
  {
   "cell_type": "markdown",
   "id": "df64cac4",
   "metadata": {},
   "source": [
    "Creamos el data frame con la info de cada municipio:"
   ]
  },
  {
   "cell_type": "code",
   "execution_count": 198,
   "id": "1fb57dae",
   "metadata": {},
   "outputs": [],
   "source": [
    "df = pd.concat([censo, pob, sup], join = 'inner', axis = 1)\n",
    "df.rename(columns = {8:'sup'}, inplace = True)"
   ]
  },
  {
   "cell_type": "code",
   "execution_count": 199,
   "id": "36be95b2",
   "metadata": {},
   "outputs": [],
   "source": [
    "df = pd.concat([df, cntcetrams], join = 'outer', axis = 1)\n",
    "df.fillna(0, inplace = True)\n",
    "df.rename(columns = {0:'cntcetrams'}, inplace = True)"
   ]
  },
  {
   "cell_type": "code",
   "execution_count": 200,
   "id": "339cde20",
   "metadata": {},
   "outputs": [],
   "source": [
    "#df = pd.concat([df, cntmetro], join = 'outer', axis = 1)\n",
    "#df.fillna(0, inplace = True)\n",
    "#df.rename(columns = {0:'cntmetro'}, inplace = True)"
   ]
  },
  {
   "cell_type": "code",
   "execution_count": 341,
   "id": "03f30d09",
   "metadata": {},
   "outputs": [],
   "source": [
    "#df = pd.concat([df, cntmb], join = 'outer', axis = 1)\n",
    "#df.fillna(0, inplace = True)\n",
    "#df.rename(columns = {0:'cntmb'}, inplace = True)"
   ]
  },
  {
   "cell_type": "markdown",
   "id": "6bfa1c8b",
   "metadata": {},
   "source": [
    "Calculamos la densidad"
   ]
  },
  {
   "cell_type": "code",
   "execution_count": 201,
   "id": "417671cd",
   "metadata": {},
   "outputs": [],
   "source": [
    "df['densidad'] = df['pop']/df['sup']"
   ]
  },
  {
   "cell_type": "code",
   "execution_count": 202,
   "id": "984a572e",
   "metadata": {},
   "outputs": [],
   "source": [
    "df.drop(['sup'], axis = 1, inplace = True); # ya no necesitamos la población"
   ]
  },
  {
   "cell_type": "code",
   "execution_count": 203,
   "id": "692f927f",
   "metadata": {},
   "outputs": [
    {
     "data": {
      "text/html": [
       "<div>\n",
       "<style scoped>\n",
       "    .dataframe tbody tr th:only-of-type {\n",
       "        vertical-align: middle;\n",
       "    }\n",
       "\n",
       "    .dataframe tbody tr th {\n",
       "        vertical-align: top;\n",
       "    }\n",
       "\n",
       "    .dataframe thead th {\n",
       "        text-align: right;\n",
       "    }\n",
       "</style>\n",
       "<table border=\"1\" class=\"dataframe\">\n",
       "  <thead>\n",
       "    <tr style=\"text-align: right;\">\n",
       "      <th></th>\n",
       "      <th>x</th>\n",
       "      <th>y</th>\n",
       "      <th>pop</th>\n",
       "      <th>cntcetrams</th>\n",
       "      <th>densidad</th>\n",
       "    </tr>\n",
       "  </thead>\n",
       "  <tbody>\n",
       "    <tr>\n",
       "      <th>09012</th>\n",
       "      <td>-99.206221</td>\n",
       "      <td>19.198340</td>\n",
       "      <td>699928</td>\n",
       "      <td>1.0</td>\n",
       "      <td>2225.526232</td>\n",
       "    </tr>\n",
       "    <tr>\n",
       "      <th>09013</th>\n",
       "      <td>-99.090364</td>\n",
       "      <td>19.245145</td>\n",
       "      <td>442178</td>\n",
       "      <td>2.0</td>\n",
       "      <td>3875.354952</td>\n",
       "    </tr>\n",
       "    <tr>\n",
       "      <th>09008</th>\n",
       "      <td>-99.268413</td>\n",
       "      <td>19.268977</td>\n",
       "      <td>247622</td>\n",
       "      <td>0.0</td>\n",
       "      <td>3905.709779</td>\n",
       "    </tr>\n",
       "    <tr>\n",
       "      <th>09015</th>\n",
       "      <td>-99.149056</td>\n",
       "      <td>19.431373</td>\n",
       "      <td>545884</td>\n",
       "      <td>3.0</td>\n",
       "      <td>16796.430769</td>\n",
       "    </tr>\n",
       "    <tr>\n",
       "      <th>09010</th>\n",
       "      <td>-99.246820</td>\n",
       "      <td>19.336176</td>\n",
       "      <td>759137</td>\n",
       "      <td>3.0</td>\n",
       "      <td>7915.922836</td>\n",
       "    </tr>\n",
       "  </tbody>\n",
       "</table>\n",
       "</div>"
      ],
      "text/plain": [
       "               x          y     pop  cntcetrams      densidad\n",
       "09012 -99.206221  19.198340  699928         1.0   2225.526232\n",
       "09013 -99.090364  19.245145  442178         2.0   3875.354952\n",
       "09008 -99.268413  19.268977  247622         0.0   3905.709779\n",
       "09015 -99.149056  19.431373  545884         3.0  16796.430769\n",
       "09010 -99.246820  19.336176  759137         3.0   7915.922836"
      ]
     },
     "execution_count": 203,
     "metadata": {},
     "output_type": "execute_result"
    }
   ],
   "source": [
    "df.head()"
   ]
  },
  {
   "cell_type": "markdown",
   "id": "afa2dff8",
   "metadata": {},
   "source": [
    "Le agregamos las personas que entran entre semana:"
   ]
  },
  {
   "cell_type": "code",
   "execution_count": 204,
   "id": "8b39a9d6",
   "metadata": {},
   "outputs": [],
   "source": [
    "M = pd.read_csv(\"https://raw.githubusercontent.com/edtrelo/COVID19Model/main/data/cleandata/viajes/viajes_entre_semana_por_cve_umun_2020.csv\", \n",
    "               index_col = 0, dtype = {'origen':str})"
   ]
  },
  {
   "cell_type": "code",
   "execution_count": 205,
   "id": "e32ae832",
   "metadata": {},
   "outputs": [],
   "source": [
    "entradas = M.sum(axis = 0)"
   ]
  },
  {
   "cell_type": "code",
   "execution_count": 206,
   "id": "9ea57bbf",
   "metadata": {},
   "outputs": [],
   "source": [
    "df = pd.concat([df, entradas], join = 'inner', axis = 1)\n",
    "df.rename(columns = {0:'entradas'}, inplace = True)"
   ]
  },
  {
   "cell_type": "code",
   "execution_count": 208,
   "id": "bcbb78ce",
   "metadata": {},
   "outputs": [],
   "source": [
    "df['region'] = kmeans.labels_"
   ]
  },
  {
   "cell_type": "code",
   "execution_count": 211,
   "id": "62e560ce",
   "metadata": {},
   "outputs": [
    {
     "data": {
      "text/html": [
       "<div>\n",
       "<style scoped>\n",
       "    .dataframe tbody tr th:only-of-type {\n",
       "        vertical-align: middle;\n",
       "    }\n",
       "\n",
       "    .dataframe tbody tr th {\n",
       "        vertical-align: top;\n",
       "    }\n",
       "\n",
       "    .dataframe thead th {\n",
       "        text-align: right;\n",
       "    }\n",
       "</style>\n",
       "<table border=\"1\" class=\"dataframe\">\n",
       "  <thead>\n",
       "    <tr style=\"text-align: right;\">\n",
       "      <th></th>\n",
       "      <th>x</th>\n",
       "      <th>y</th>\n",
       "      <th>pop</th>\n",
       "      <th>cntcetrams</th>\n",
       "      <th>densidad</th>\n",
       "      <th>entradas</th>\n",
       "    </tr>\n",
       "    <tr>\n",
       "      <th>region</th>\n",
       "      <th></th>\n",
       "      <th></th>\n",
       "      <th></th>\n",
       "      <th></th>\n",
       "      <th></th>\n",
       "      <th></th>\n",
       "    </tr>\n",
       "  </thead>\n",
       "  <tbody>\n",
       "    <tr>\n",
       "      <th>0</th>\n",
       "      <td>-1089.946845</td>\n",
       "      <td>217.392168</td>\n",
       "      <td>1673172</td>\n",
       "      <td>0.0</td>\n",
       "      <td>25276.181336</td>\n",
       "      <td>6343167</td>\n",
       "    </tr>\n",
       "    <tr>\n",
       "      <th>1</th>\n",
       "      <td>-991.251362</td>\n",
       "      <td>194.054471</td>\n",
       "      <td>5831096</td>\n",
       "      <td>23.0</td>\n",
       "      <td>134771.411987</td>\n",
       "      <td>11682802</td>\n",
       "    </tr>\n",
       "    <tr>\n",
       "      <th>2</th>\n",
       "      <td>-1088.050376</td>\n",
       "      <td>211.983264</td>\n",
       "      <td>3148490</td>\n",
       "      <td>3.0</td>\n",
       "      <td>35661.868629</td>\n",
       "      <td>7843900</td>\n",
       "    </tr>\n",
       "    <tr>\n",
       "      <th>3</th>\n",
       "      <td>-1190.852423</td>\n",
       "      <td>233.967301</td>\n",
       "      <td>5433705</td>\n",
       "      <td>1.0</td>\n",
       "      <td>63156.635039</td>\n",
       "      <td>9922069</td>\n",
       "    </tr>\n",
       "    <tr>\n",
       "      <th>4</th>\n",
       "      <td>-297.215875</td>\n",
       "      <td>58.426012</td>\n",
       "      <td>4654189</td>\n",
       "      <td>13.0</td>\n",
       "      <td>40096.867267</td>\n",
       "      <td>6047741</td>\n",
       "    </tr>\n",
       "  </tbody>\n",
       "</table>\n",
       "</div>"
      ],
      "text/plain": [
       "                  x           y      pop  cntcetrams       densidad  entradas\n",
       "region                                                                       \n",
       "0      -1089.946845  217.392168  1673172         0.0   25276.181336   6343167\n",
       "1       -991.251362  194.054471  5831096        23.0  134771.411987  11682802\n",
       "2      -1088.050376  211.983264  3148490         3.0   35661.868629   7843900\n",
       "3      -1190.852423  233.967301  5433705         1.0   63156.635039   9922069\n",
       "4       -297.215875   58.426012  4654189        13.0   40096.867267   6047741"
      ]
     },
     "execution_count": 211,
     "metadata": {},
     "output_type": "execute_result"
    }
   ],
   "source": [
    "df.groupby('region').sum()"
   ]
  },
  {
   "cell_type": "markdown",
   "id": "77837db5",
   "metadata": {},
   "source": [
    "### K-means clustering\n",
    "\n",
    "Dado un número $k$ de clusters y datos $x\\in \\mathbb R^n$, buscamos $\\mu_1,...,\\mu_k\\in \\mathbb R^n$ centroides y $S_1,...,S_k$ clusters tales que se minimice la suma de cuadrados en los clusters (WCSS):\n",
    "\n",
    "$$\\sum_{i=1}^k \\sum_{x\\in S_i} ||x-\\mu_i||^2 $$"
   ]
  },
  {
   "cell_type": "markdown",
   "id": "05a3f549",
   "metadata": {},
   "source": [
    "Debemos normalizar todos los datos para que ninguna columna tenga más peso que otra:"
   ]
  },
  {
   "cell_type": "code",
   "execution_count": 29,
   "id": "41bf4b0d",
   "metadata": {},
   "outputs": [],
   "source": [
    "scaler = MinMaxScaler()\n",
    "scaled_df = scaler.fit_transform(df)"
   ]
  },
  {
   "cell_type": "markdown",
   "id": "a2591144",
   "metadata": {},
   "source": [
    "Veamos cómo se mejora la función objetivo respecto al número de clusters:"
   ]
  },
  {
   "cell_type": "code",
   "execution_count": 30,
   "id": "1c828037",
   "metadata": {},
   "outputs": [],
   "source": [
    "wcss = []\n",
    "\n",
    "for i in range(1, 20):\n",
    "    kmeans = KMeans(n_clusters = i)\n",
    "    kmeans.fit(scaled_df)\n",
    "    wcss.append(kmeans.inertia_)"
   ]
  },
  {
   "cell_type": "code",
   "execution_count": 31,
   "id": "5f0ea103",
   "metadata": {},
   "outputs": [
    {
     "data": {
      "image/png": "[encoded data removed]",
      "text/plain": [
       "<Figure size 576x432 with 1 Axes>"
      ]
     },
     "metadata": {
      "needs_background": "light"
     },
     "output_type": "display_data"
    }
   ],
   "source": [
    "fig, ax = plt.subplots(figsize = (8, 6))\n",
    "\n",
    "ax.plot(range(1,20), wcss, color = 'k', linewidth = 2, marker = 'o')\n",
    "ax.spines[['top', 'right']].set_visible(False)\n",
    "ax.set_xlabel('\\nNúmero de clusters', fontsize = 16)\n",
    "ax.set_ylabel('Valor de la Función a Minimizar', fontsize = 16)\n",
    "ax.set_xticks(range(2, 21, 2))\n",
    "ax.set_xticklabels(range(2, 21, 2), fontsize = 14)\n",
    "\n",
    "plt.show()"
   ]
  },
  {
   "cell_type": "code",
   "execution_count": 34,
   "id": "94e8e3a2",
   "metadata": {},
   "outputs": [],
   "source": [
    "kmeans = KMeans(n_clusters=5, max_iter=300)\n",
    "kmeans.fit(scaled_df);"
   ]
  },
  {
   "cell_type": "code",
   "execution_count": 35,
   "id": "d33a3093",
   "metadata": {},
   "outputs": [
    {
     "data": {
      "image/png": "[encoded data removed]",
      "text/plain": [
       "<Figure size 432x288 with 1 Axes>"
      ]
     },
     "metadata": {
      "needs_background": "light"
     },
     "output_type": "display_data"
    }
   ],
   "source": [
    "pca = PCA(n_components = 2)\n",
    "pca_data = pca.fit_transform(scaled_df)\n",
    "pca_df = pd.DataFrame(data = pca_data, columns = ['c1', 'c2'])\n",
    "pca_df['region'] = kmeans.labels_\n",
    "\n",
    "colors = np.array(['red', 'green', 'blue', 'orange', 'brown', 'pink', 'cyan'])\n",
    "plt.scatter(pca_df['c1'], pca_df['c2'], c = colors[pca_df.region])\n",
    "\n",
    "plt.show()"
   ]
  },
  {
   "cell_type": "code",
   "execution_count": 36,
   "id": "2c59f7f4",
   "metadata": {},
   "outputs": [],
   "source": [
    "mapa_ZMVM['region'] = kmeans.labels_\n",
    "regiones = mapa_ZMVM.dissolve(by=\"region\")"
   ]
  },
  {
   "cell_type": "code",
   "execution_count": 43,
   "id": "2839081a",
   "metadata": {},
   "outputs": [
    {
     "data": {
      "text/plain": [
       "array([3, 2, 3, 1, 1, 1, 1, 4, 3, 1, 1, 1, 1, 2, 4, 2, 3, 0, 2, 3, 0, 3,\n",
       "       3, 2, 0, 0, 0, 0, 2, 0, 2, 2, 3, 1, 3, 2, 3, 0, 4, 1, 2, 2, 0, 3,\n",
       "       3, 0, 0])"
      ]
     },
     "execution_count": 43,
     "metadata": {},
     "output_type": "execute_result"
    }
   ],
   "source": [
    "kmeans.labels_"
   ]
  },
  {
   "cell_type": "code",
   "execution_count": 83,
   "id": "ea04d13e",
   "metadata": {},
   "outputs": [],
   "source": [
    "romanos = {0:'I', 1:'II', 2:'III', 3:'IV', 4:'V'}"
   ]
  },
  {
   "cell_type": "code",
   "execution_count": 47,
   "id": "8c477465",
   "metadata": {},
   "outputs": [
    {
     "data": {
      "text/html": [
       "<div>\n",
       "<style scoped>\n",
       "    .dataframe tbody tr th:only-of-type {\n",
       "        vertical-align: middle;\n",
       "    }\n",
       "\n",
       "    .dataframe tbody tr th {\n",
       "        vertical-align: top;\n",
       "    }\n",
       "\n",
       "    .dataframe thead th {\n",
       "        text-align: right;\n",
       "    }\n",
       "</style>\n",
       "<table border=\"1\" class=\"dataframe\">\n",
       "  <thead>\n",
       "    <tr style=\"text-align: right;\">\n",
       "      <th></th>\n",
       "      <th>region</th>\n",
       "      <th>geometry</th>\n",
       "      <th>cve_umun</th>\n",
       "    </tr>\n",
       "  </thead>\n",
       "  <tbody>\n",
       "    <tr>\n",
       "      <th>0</th>\n",
       "      <td>0</td>\n",
       "      <td>MULTIPOLYGON (((-99.17514 19.69635, -99.17512 ...</td>\n",
       "      <td>15044</td>\n",
       "    </tr>\n",
       "    <tr>\n",
       "      <th>1</th>\n",
       "      <td>1</td>\n",
       "      <td>POLYGON ((-99.13772 19.35677, -99.13728 19.356...</td>\n",
       "      <td>09015</td>\n",
       "    </tr>\n",
       "    <tr>\n",
       "      <th>2</th>\n",
       "      <td>2</td>\n",
       "      <td>MULTIPOLYGON (((-98.95239 19.16864, -98.96561 ...</td>\n",
       "      <td>09013</td>\n",
       "    </tr>\n",
       "    <tr>\n",
       "      <th>3</th>\n",
       "      <td>3</td>\n",
       "      <td>MULTIPOLYGON (((-99.31534 19.22920, -99.32130 ...</td>\n",
       "      <td>09012</td>\n",
       "    </tr>\n",
       "    <tr>\n",
       "      <th>4</th>\n",
       "      <td>4</td>\n",
       "      <td>MULTIPOLYGON (((-99.05814 19.40069, -99.05793 ...</td>\n",
       "      <td>09005</td>\n",
       "    </tr>\n",
       "  </tbody>\n",
       "</table>\n",
       "</div>"
      ],
      "text/plain": [
       "   region                                           geometry cve_umun\n",
       "0       0  MULTIPOLYGON (((-99.17514 19.69635, -99.17512 ...    15044\n",
       "1       1  POLYGON ((-99.13772 19.35677, -99.13728 19.356...    09015\n",
       "2       2  MULTIPOLYGON (((-98.95239 19.16864, -98.96561 ...    09013\n",
       "3       3  MULTIPOLYGON (((-99.31534 19.22920, -99.32130 ...    09012\n",
       "4       4  MULTIPOLYGON (((-99.05814 19.40069, -99.05793 ...    09005"
      ]
     },
     "execution_count": 47,
     "metadata": {},
     "output_type": "execute_result"
    }
   ],
   "source": []
  },
  {
   "cell_type": "code",
   "execution_count": 52,
   "id": "5e04e0a9",
   "metadata": {},
   "outputs": [
    {
     "data": {
      "image/png": "[encoded data removed]",
      "text/plain": [
       "<Figure size 576x864 with 1 Axes>"
      ]
     },
     "metadata": {
      "needs_background": "light"
     },
     "output_type": "display_data"
    }
   ],
   "source": [
    "fig, ax = plt.subplots(figsize = (8, 12))\n",
    "\n",
    "regiones.plot(cmap = 'summer', ax = ax, legend = True)\n",
    "ax.axis('off')\n",
    "regiones.reset_index().apply(lambda x: ax.annotate(text=romanos[x['region']], \n",
    "                                     xy=x.geometry.centroid.coords[0], \n",
    "                                     ha='center',\n",
    "                                     fontsize = 26), axis=1)\n",
    "\n",
    "plt.show()"
   ]
  },
  {
   "cell_type": "code",
   "execution_count": 38,
   "id": "71070606",
   "metadata": {},
   "outputs": [],
   "source": [
    "mapa_ZMVM.to_file('D:/Edgar Trejo/Universidad/Proyecto/COVID19Model/data/cleandata/regionesmap/regiones.shp')"
   ]
  },
  {
   "cell_type": "code",
   "execution_count": 39,
   "id": "135359fb",
   "metadata": {},
   "outputs": [],
   "source": [
    "df = pd.DataFrame({'cve_umun': mapa_ZMVM['cve_umun'], 'region': mapa_ZMVM['region']})"
   ]
  },
  {
   "cell_type": "code",
   "execution_count": 40,
   "id": "41c61aac",
   "metadata": {},
   "outputs": [
    {
     "data": {
      "text/html": [
       "<div>\n",
       "<style scoped>\n",
       "    .dataframe tbody tr th:only-of-type {\n",
       "        vertical-align: middle;\n",
       "    }\n",
       "\n",
       "    .dataframe tbody tr th {\n",
       "        vertical-align: top;\n",
       "    }\n",
       "\n",
       "    .dataframe thead th {\n",
       "        text-align: right;\n",
       "    }\n",
       "</style>\n",
       "<table border=\"1\" class=\"dataframe\">\n",
       "  <thead>\n",
       "    <tr style=\"text-align: right;\">\n",
       "      <th></th>\n",
       "      <th>cve_umun</th>\n",
       "      <th>region</th>\n",
       "    </tr>\n",
       "  </thead>\n",
       "  <tbody>\n",
       "    <tr>\n",
       "      <th>0</th>\n",
       "      <td>09012</td>\n",
       "      <td>3</td>\n",
       "    </tr>\n",
       "    <tr>\n",
       "      <th>1</th>\n",
       "      <td>09013</td>\n",
       "      <td>2</td>\n",
       "    </tr>\n",
       "    <tr>\n",
       "      <th>2</th>\n",
       "      <td>09008</td>\n",
       "      <td>3</td>\n",
       "    </tr>\n",
       "    <tr>\n",
       "      <th>3</th>\n",
       "      <td>09015</td>\n",
       "      <td>1</td>\n",
       "    </tr>\n",
       "    <tr>\n",
       "      <th>4</th>\n",
       "      <td>09010</td>\n",
       "      <td>1</td>\n",
       "    </tr>\n",
       "  </tbody>\n",
       "</table>\n",
       "</div>"
      ],
      "text/plain": [
       "  cve_umun  region\n",
       "0    09012       3\n",
       "1    09013       2\n",
       "2    09008       3\n",
       "3    09015       1\n",
       "4    09010       1"
      ]
     },
     "execution_count": 40,
     "metadata": {},
     "output_type": "execute_result"
    }
   ],
   "source": [
    "df.head()"
   ]
  },
  {
   "cell_type": "code",
   "execution_count": 41,
   "id": "e26e58e9",
   "metadata": {},
   "outputs": [],
   "source": [
    "df.to_csv('D:/Edgar Trejo/Universidad/Proyecto/COVID19Model/data/transformeddata/regiones.csv',\n",
    "         index=False,  encoding = 'utf-8')"
   ]
  },
  {
   "cell_type": "code",
   "execution_count": 54,
   "id": "ad16c7aa",
   "metadata": {},
   "outputs": [],
   "source": [
    "pob = pd.read_csv(\"https://raw.githubusercontent.com/edtrelo/COVID19Model/main/data/cleandata/pob_reg.csv\", index_col = 0)"
   ]
  },
  {
   "cell_type": "code",
   "execution_count": 55,
   "id": "5781785e",
   "metadata": {},
   "outputs": [],
   "source": [
    "pob = pob['pop'].to_list()"
   ]
  },
  {
   "cell_type": "code",
   "execution_count": 59,
   "id": "c43d202a",
   "metadata": {},
   "outputs": [],
   "source": [
    "es = pd.read_csv(\"https://raw.githubusercontent.com/edtrelo/COVID19Model/main/data/cleandata/viajes/viajes_es_reg.csv\",\n",
    "                index_col = 0)"
   ]
  },
  {
   "cell_type": "code",
   "execution_count": 60,
   "id": "06795ac4",
   "metadata": {},
   "outputs": [
    {
     "data": {
      "text/html": [
       "<div>\n",
       "<style scoped>\n",
       "    .dataframe tbody tr th:only-of-type {\n",
       "        vertical-align: middle;\n",
       "    }\n",
       "\n",
       "    .dataframe tbody tr th {\n",
       "        vertical-align: top;\n",
       "    }\n",
       "\n",
       "    .dataframe thead th {\n",
       "        text-align: right;\n",
       "    }\n",
       "</style>\n",
       "<table border=\"1\" class=\"dataframe\">\n",
       "  <thead>\n",
       "    <tr style=\"text-align: right;\">\n",
       "      <th></th>\n",
       "      <th>0</th>\n",
       "      <th>1</th>\n",
       "      <th>2</th>\n",
       "      <th>3</th>\n",
       "      <th>4</th>\n",
       "    </tr>\n",
       "    <tr>\n",
       "      <th>region</th>\n",
       "      <th></th>\n",
       "      <th></th>\n",
       "      <th></th>\n",
       "      <th></th>\n",
       "      <th></th>\n",
       "    </tr>\n",
       "  </thead>\n",
       "  <tbody>\n",
       "    <tr>\n",
       "      <th>0</th>\n",
       "      <td>2382289</td>\n",
       "      <td>1079334</td>\n",
       "      <td>1141035</td>\n",
       "      <td>1359242</td>\n",
       "      <td>384878</td>\n",
       "    </tr>\n",
       "    <tr>\n",
       "      <th>1</th>\n",
       "      <td>1076048</td>\n",
       "      <td>6282064</td>\n",
       "      <td>1334889</td>\n",
       "      <td>1777230</td>\n",
       "      <td>1182559</td>\n",
       "    </tr>\n",
       "    <tr>\n",
       "      <th>2</th>\n",
       "      <td>1141251</td>\n",
       "      <td>1349372</td>\n",
       "      <td>3623554</td>\n",
       "      <td>1308268</td>\n",
       "      <td>440746</td>\n",
       "    </tr>\n",
       "    <tr>\n",
       "      <th>3</th>\n",
       "      <td>1358850</td>\n",
       "      <td>1782918</td>\n",
       "      <td>1305329</td>\n",
       "      <td>4939680</td>\n",
       "      <td>535819</td>\n",
       "    </tr>\n",
       "    <tr>\n",
       "      <th>4</th>\n",
       "      <td>384729</td>\n",
       "      <td>1189114</td>\n",
       "      <td>439093</td>\n",
       "      <td>537649</td>\n",
       "      <td>3503739</td>\n",
       "    </tr>\n",
       "  </tbody>\n",
       "</table>\n",
       "</div>"
      ],
      "text/plain": [
       "              0        1        2        3        4\n",
       "region                                             \n",
       "0       2382289  1079334  1141035  1359242   384878\n",
       "1       1076048  6282064  1334889  1777230  1182559\n",
       "2       1141251  1349372  3623554  1308268   440746\n",
       "3       1358850  1782918  1305329  4939680   535819\n",
       "4        384729  1189114   439093   537649  3503739"
      ]
     },
     "execution_count": 60,
     "metadata": {},
     "output_type": "execute_result"
    }
   ],
   "source": [
    "es"
   ]
  },
  {
   "cell_type": "code",
   "execution_count": 56,
   "id": "55fd67f9",
   "metadata": {},
   "outputs": [
    {
     "data": {
      "text/plain": [
       "[1673172, 5831096, 3148490, 5433705, 4654189]"
      ]
     },
     "execution_count": 56,
     "metadata": {},
     "output_type": "execute_result"
    }
   ],
   "source": [
    "pob"
   ]
  },
  {
   "cell_type": "code",
   "execution_count": 58,
   "id": "bdc2597c",
   "metadata": {},
   "outputs": [
    {
     "data": {
      "text/html": [
       "<div>\n",
       "<style scoped>\n",
       "    .dataframe tbody tr th:only-of-type {\n",
       "        vertical-align: middle;\n",
       "    }\n",
       "\n",
       "    .dataframe tbody tr th {\n",
       "        vertical-align: top;\n",
       "    }\n",
       "\n",
       "    .dataframe thead th {\n",
       "        text-align: right;\n",
       "    }\n",
       "</style>\n",
       "<table border=\"1\" class=\"dataframe\">\n",
       "  <thead>\n",
       "    <tr style=\"text-align: right;\">\n",
       "      <th></th>\n",
       "      <th>region</th>\n",
       "      <th>geometry</th>\n",
       "      <th>cve_umun</th>\n",
       "    </tr>\n",
       "  </thead>\n",
       "  <tbody>\n",
       "    <tr>\n",
       "      <th>0</th>\n",
       "      <td>0</td>\n",
       "      <td>MULTIPOLYGON (((-99.17514 19.69635, -99.17512 ...</td>\n",
       "      <td>15044</td>\n",
       "    </tr>\n",
       "    <tr>\n",
       "      <th>1</th>\n",
       "      <td>1</td>\n",
       "      <td>POLYGON ((-99.13772 19.35677, -99.13728 19.356...</td>\n",
       "      <td>09015</td>\n",
       "    </tr>\n",
       "    <tr>\n",
       "      <th>2</th>\n",
       "      <td>2</td>\n",
       "      <td>MULTIPOLYGON (((-98.95239 19.16864, -98.96561 ...</td>\n",
       "      <td>09013</td>\n",
       "    </tr>\n",
       "    <tr>\n",
       "      <th>3</th>\n",
       "      <td>3</td>\n",
       "      <td>MULTIPOLYGON (((-99.31534 19.22920, -99.32130 ...</td>\n",
       "      <td>09012</td>\n",
       "    </tr>\n",
       "    <tr>\n",
       "      <th>4</th>\n",
       "      <td>4</td>\n",
       "      <td>MULTIPOLYGON (((-99.05814 19.40069, -99.05793 ...</td>\n",
       "      <td>09005</td>\n",
       "    </tr>\n",
       "  </tbody>\n",
       "</table>\n",
       "</div>"
      ],
      "text/plain": [
       "   region                                           geometry cve_umun\n",
       "0       0  MULTIPOLYGON (((-99.17514 19.69635, -99.17512 ...    15044\n",
       "1       1  POLYGON ((-99.13772 19.35677, -99.13728 19.356...    09015\n",
       "2       2  MULTIPOLYGON (((-98.95239 19.16864, -98.96561 ...    09013\n",
       "3       3  MULTIPOLYGON (((-99.31534 19.22920, -99.32130 ...    09012\n",
       "4       4  MULTIPOLYGON (((-99.05814 19.40069, -99.05793 ...    09005"
      ]
     },
     "execution_count": 58,
     "metadata": {},
     "output_type": "execute_result"
    }
   ],
   "source": [
    "regiones.reset_index()"
   ]
  },
  {
   "cell_type": "code",
   "execution_count": 168,
   "id": "9ddda5ba",
   "metadata": {},
   "outputs": [],
   "source": [
    "G = nx.DiGraph()\n",
    "\n",
    "for i in range(5):\n",
    "    for j in range(5):\n",
    "        if i == j:\n",
    "            pass\n",
    "        else:\n",
    "            G.add_edge(i, j)\n",
    "            G.add_edge(j, i)\n",
    "            G[i][j]['weight'] = es.iloc[i, j]\n",
    "            G[i][j]['weight'] = es.iloc[j, i]"
   ]
  },
  {
   "cell_type": "code",
   "execution_count": 169,
   "id": "fb622478",
   "metadata": {},
   "outputs": [],
   "source": [
    "P = lambda p: (p.x, p.y)"
   ]
  },
  {
   "cell_type": "code",
   "execution_count": 170,
   "id": "5c952136",
   "metadata": {},
   "outputs": [],
   "source": [
    "centros = regiones.geometry.to_crs(epsg=4087).centroid"
   ]
  },
  {
   "cell_type": "code",
   "execution_count": 171,
   "id": "5c115a89",
   "metadata": {},
   "outputs": [],
   "source": [
    "lats = centros.map(P).to_numpy()"
   ]
  },
  {
   "cell_type": "code",
   "execution_count": 172,
   "id": "4fcabf17",
   "metadata": {},
   "outputs": [],
   "source": [
    "pos = {}\n",
    "for i in range(5):\n",
    "    pos[i] = lats[i]"
   ]
  },
  {
   "cell_type": "code",
   "execution_count": 173,
   "id": "66cb9726",
   "metadata": {},
   "outputs": [],
   "source": [
    "colores = ['dodgerblue', 'green', 'peru', 'c', 'firebrick']"
   ]
  },
  {
   "cell_type": "code",
   "execution_count": 174,
   "id": "090333ee",
   "metadata": {},
   "outputs": [],
   "source": [
    "pobN = np.array(pob)/max(pob)"
   ]
  },
  {
   "cell_type": "code",
   "execution_count": 175,
   "id": "5b829a07",
   "metadata": {},
   "outputs": [
    {
     "data": {
      "text/plain": [
       "{0: (-11033132.69723048, 2201386.9055932555),\n",
       " 1: (-11035133.698918633, 2159087.060826507),\n",
       " 2: (-11008724.996251479, 2149131.574729938),\n",
       " 3: (-11050272.61819805, 2165027.464715384),\n",
       " 4: (-11027908.774930838, 2169070.916819755)}"
      ]
     },
     "execution_count": 175,
     "metadata": {},
     "output_type": "execute_result"
    }
   ],
   "source": [
    "pos"
   ]
  },
  {
   "cell_type": "code",
   "execution_count": 176,
   "id": "cb6e4454",
   "metadata": {},
   "outputs": [],
   "source": [
    "pos[4] = (0, 0)\n",
    "pos[1] = (-2, -4)\n",
    "pos[0] = (-1, 6)\n",
    "pos[3] = (-6, -1)\n",
    "pos[2] = (6, -3)"
   ]
  },
  {
   "cell_type": "code",
   "execution_count": 177,
   "id": "1599572f",
   "metadata": {},
   "outputs": [],
   "source": [
    "plt.rcParams[\"font.family\"] = \"Times New Roman\""
   ]
  },
  {
   "cell_type": "code",
   "execution_count": null,
   "id": "8ba30d51",
   "metadata": {},
   "outputs": [],
   "source": []
  },
  {
   "cell_type": "code",
   "execution_count": 178,
   "id": "d9bbec46",
   "metadata": {},
   "outputs": [],
   "source": [
    "weights = np.array([G[u][v]['weight'] for u,v in G.edges()])"
   ]
  },
  {
   "cell_type": "code",
   "execution_count": 179,
   "id": "2ec6abf3",
   "metadata": {},
   "outputs": [
    {
     "data": {
      "text/plain": [
       "array([1076048, 1141251, 1358850,  384729, 1079334, 1349372, 1782918,\n",
       "       1189114, 1141035, 1334889, 1305329,  439093, 1359242, 1777230,\n",
       "       1308268,  537649,  384878, 1182559,  440746,  535819], dtype=int64)"
      ]
     },
     "execution_count": 179,
     "metadata": {},
     "output_type": "execute_result"
    }
   ],
   "source": [
    "weights"
   ]
  },
  {
   "cell_type": "code",
   "execution_count": 181,
   "id": "43905f01",
   "metadata": {},
   "outputs": [
    {
     "data": {
      "image/png": "[encoded data removed]",
      "text/plain": [
       "<Figure size 576x576 with 1 Axes>"
      ]
     },
     "metadata": {},
     "output_type": "display_data"
    }
   ],
   "source": [
    "fig, ax = plt.subplots(figsize = (8, 8))\n",
    "\n",
    "\n",
    "nx.draw(G, pos = pos, ax = ax, node_color = colores, node_size = pobN*5000, alpha = 1.0, \n",
    "        width = weights/max(weights)*7, connectionstyle='arc3, rad = 0.1')\n",
    "\n",
    "nx.draw_networkx_labels(G,pos=pos, labels = romanos, font_family = \"Times New Roman\", font_size = 20,\n",
    "                       font_color = 'k')\n",
    "\n",
    "plt.show()"
   ]
  },
  {
   "cell_type": "code",
   "execution_count": null,
   "id": "28b006ba",
   "metadata": {},
   "outputs": [],
   "source": []
  }
 ],
 "metadata": {
  "kernelspec": {
   "display_name": "Python 3 (ipykernel)",
   "language": "python",
   "name": "python3"
  },
  "language_info": {
   "codemirror_mode": {
    "name": "ipython",
    "version": 3
   },
   "file_extension": ".py",
   "mimetype": "text/x-python",
   "name": "python",
   "nbconvert_exporter": "python",
   "pygments_lexer": "ipython3",
   "version": "3.8.3"
  }
 },
 "nbformat": 4,
 "nbformat_minor": 5
}
